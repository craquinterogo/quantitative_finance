{
 "cells": [
  {
   "cell_type": "code",
   "execution_count": 1,
   "id": "9cb7cbf3",
   "metadata": {},
   "outputs": [],
   "source": [
    "import pandas as pd\n",
    "from my_var.var import calculate_returns, calculate_var_cvar_historical\n",
    "from my_var.utils import extract_column_from_csv"
   ]
  },
  {
   "cell_type": "code",
   "execution_count": 2,
   "id": "2aed2b2c",
   "metadata": {},
   "outputs": [],
   "source": [
    "list_prices = extract_column_from_csv(csv_path='datasource/RGTI_193552.csv', column='close',days=253, round=4)"
   ]
  },
  {
   "cell_type": "code",
   "execution_count": 3,
   "id": "33fb495e",
   "metadata": {},
   "outputs": [
    {
     "name": "stdout",
     "output_type": "stream",
     "text": [
      "We are in calculate_returns function, receiving 253 data points.\n"
     ]
    }
   ],
   "source": [
    "list_returns = calculate_returns(list_prices)"
   ]
  },
  {
   "cell_type": "code",
   "execution_count": 4,
   "id": "c09af1de",
   "metadata": {},
   "outputs": [
    {
     "data": {
      "text/plain": [
       "{'significance_level': 95.0,\n",
       " 'n_points': 252,\n",
       " 'var_historical': np.float64(-0.10770750988142291),\n",
       " 'cvar_historical': np.float64(-0.18992710933866908)}"
      ]
     },
     "execution_count": 4,
     "metadata": {},
     "output_type": "execute_result"
    }
   ],
   "source": [
    "dict_var = calculate_var_cvar_historical(returns=list_returns, significance_level=0.05)\n",
    "dict_var"
   ]
  }
 ],
 "metadata": {
  "kernelspec": {
   "display_name": "mcp-server",
   "language": "python",
   "name": "python3"
  },
  "language_info": {
   "codemirror_mode": {
    "name": "ipython",
    "version": 3
   },
   "file_extension": ".py",
   "mimetype": "text/x-python",
   "name": "python",
   "nbconvert_exporter": "python",
   "pygments_lexer": "ipython3",
   "version": "3.12.3"
  }
 },
 "nbformat": 4,
 "nbformat_minor": 5
}
