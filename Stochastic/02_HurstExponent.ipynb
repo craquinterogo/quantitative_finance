{
 "cells": [
  {
   "cell_type": "markdown",
   "metadata": {},
   "source": [
    "# Hurst Exponent\n",
    "\n",
    "This implementation of R/S Analysis to get the Hurst exponent, is inspired in different sources.\n",
    "\n",
    "Sources:\n",
    "* **Fractal Market Analysis**, Edgar Peters (1994), capitulo 4.\n",
    "* [Python's Hurst library](https://github.com/Mottl/hurst)\n",
    "* [**A brief history of long memory: Hurst, Mandelbrot and the road to ARFIMA**](https://arxiv.org/abs/1406.6018v3), Graves, T. & Gramacy, R. & Watkins, N. & Franzke, C.\n",
    "\n",
    "<font color='red'>NOT FINISHED YET! .. function is not working properly</font> "
   ]
  },
  {
   "cell_type": "code",
   "execution_count": null,
   "metadata": {},
   "outputs": [],
   "source": [
    "%load_ext autoreload\n",
    "%autoreload 2"
   ]
  },
  {
   "cell_type": "code",
   "execution_count": null,
   "metadata": {},
   "outputs": [],
   "source": [
    "from hurst import compute_Hc, random_walk"
   ]
  },
  {
   "cell_type": "code",
   "execution_count": null,
   "metadata": {},
   "outputs": [],
   "source": [
    "import pandas as pd\n",
    "import seaborn as sns\n",
    "import matplotlib.pyplot as plt\n",
    "import numpy as np\n",
    "from scipy.stats import linregress\n",
    "import math\n",
    "from scipy import optimize"
   ]
  },
  {
   "cell_type": "code",
   "execution_count": null,
   "metadata": {},
   "outputs": [],
   "source": [
    "np.random.seed(200)"
   ]
  },
  {
   "cell_type": "markdown",
   "metadata": {},
   "source": [
    "# Persistent Values"
   ]
  },
  {
   "cell_type": "code",
   "execution_count": null,
   "metadata": {},
   "outputs": [],
   "source": [
    "testing_data = {\n",
    "    'example_1' : np.array(random_walk(5000, proba=0.5))+500, # BM\n",
    "    'example_2' : np.array(random_walk(1000, proba=0.9))+10000, # Persistent\n",
    "    'example_3' : np.array(random_walk(1000, proba=0.2))+10000, # Anti-Persistent\n",
    "    'example_4' : np.array([i + np.random.rand()*50 for i in range(300)]), # Persistent\n",
    "    'example_5' : np.array([2+math.sin(i)+np.random.rand()*1.000001 for i in np.linspace(0,40,300)]) # Anti-Persistent\n",
    "}"
   ]
  },
  {
   "cell_type": "code",
   "execution_count": null,
   "metadata": {},
   "outputs": [],
   "source": [
    "ts = testing_data['example_2']\n",
    "\n",
    "N = len(ts)\n",
    "X_k = np.log(ts[1:] / ts[:-1]) # See Peters (1994) <- it doesn't work with negative differences\n",
    "# X_k = ts[1:] - ts[:-1]\n",
    "windows_ = [len(ts)]\n",
    "while windows_[-1] > 5:\n",
    "    windows_.append(math.floor(windows_[-1] / 2 ))"
   ]
  },
  {
   "cell_type": "code",
   "execution_count": null,
   "metadata": {},
   "outputs": [],
   "source": [
    "plt.plot(ts)\n",
    "plt.show()"
   ]
  },
  {
   "cell_type": "code",
   "execution_count": null,
   "metadata": {},
   "outputs": [],
   "source": [
    "RS_values = []\n",
    "n_values = []\n",
    "# windows_ = [10, 17, 31, 56, 100]\n",
    "for w_size in windows_:\n",
    "    RS_values_I = []\n",
    "    for i in range(0,N, w_size):\n",
    "        if i+w_size > N:\n",
    "            continue\n",
    "        subset_ = X_k[i:i+w_size]\n",
    "        X_mean = np.mean(subset_)\n",
    "        X_z = subset_ - X_mean\n",
    "        Y_k = np.cumsum(X_z)\n",
    "        R_n = max(Y_k) - min(Y_k)\n",
    "        S_n = np.std(subset_, ddof=0)\n",
    "        RS_values_I.append(R_n / S_n)\n",
    "    RS_values.append(np.mean(RS_values_I))\n",
    "    n_values.append(w_size)\n",
    "    del RS_values_I\n",
    "model = linregress(np.log(n_values), np.log(RS_values))\n",
    "print(f\"=======\\n{model.slope=:.5}\\n{model.intercept=:.5}\")\n",
    "print(f\"=======\\n HURST  = {model.slope=:.5}\")"
   ]
  },
  {
   "cell_type": "code",
   "execution_count": null,
   "metadata": {},
   "outputs": [],
   "source": [
    "# list(zip(RS_values, n_values))"
   ]
  },
  {
   "cell_type": "code",
   "execution_count": null,
   "metadata": {},
   "outputs": [],
   "source": [
    "plt.plot(np.log(n_values), np.log(RS_values))\n",
    "plt.show()"
   ]
  },
  {
   "cell_type": "code",
   "execution_count": null,
   "metadata": {},
   "outputs": [],
   "source": [
    "H, c, data = compute_Hc(ts, kind='price', simplified=True)\n",
    "print(\"Price :: H={:.4f}, c={:.4f}\".format(H,c))"
   ]
  },
  {
   "cell_type": "code",
   "execution_count": null,
   "metadata": {},
   "outputs": [],
   "source": [
    "H, c, data = compute_Hc(ts, kind='random_walk', simplified=True)\n",
    "print(\"Random Walk     :: H={:.4f}, c={:.4f}\".format(H,c))"
   ]
  },
  {
   "cell_type": "code",
   "execution_count": null,
   "metadata": {},
   "outputs": [],
   "source": [
    "H, c, data = compute_Hc(ts, kind='change', simplified=True)\n",
    "print(\"Change     :: H={:.4f}, c={:.4f}\".format(H,c))"
   ]
  },
  {
   "cell_type": "code",
   "execution_count": null,
   "metadata": {},
   "outputs": [],
   "source": []
  },
  {
   "cell_type": "code",
   "execution_count": null,
   "metadata": {},
   "outputs": [],
   "source": []
  }
 ],
 "metadata": {
  "kernelspec": {
   "display_name": "Python 3",
   "language": "python",
   "name": "python3"
  },
  "language_info": {
   "codemirror_mode": {
    "name": "ipython",
    "version": 3
   },
   "file_extension": ".py",
   "mimetype": "text/x-python",
   "name": "python",
   "nbconvert_exporter": "python",
   "pygments_lexer": "ipython3",
   "version": "3.11.6"
  }
 },
 "nbformat": 4,
 "nbformat_minor": 2
}
