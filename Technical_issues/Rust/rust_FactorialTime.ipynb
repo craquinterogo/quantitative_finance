{
 "cells": [
  {
   "cell_type": "markdown",
   "id": "333e7b30-bf1a-4f95-8317-93298be78ec0",
   "metadata": {},
   "source": [
    "# Recursive Factorial Function in Rust\n",
    "\n",
    "This time I've decided to try the same exercise running factorial algorithm (recursive) using Rust. I'm a bit surprised .... it is faster than Swig implementation, run from python.... and I like this!."
   ]
  },
  {
   "cell_type": "code",
   "execution_count": 2,
   "id": "6c9ee945-469c-4f8a-afce-b8a7b8fa8159",
   "metadata": {},
   "outputs": [],
   "source": [
    "use std::time::Instant;\n",
    "// use std::cmp::Ordering;"
   ]
  },
  {
   "cell_type": "code",
   "execution_count": 3,
   "id": "5baf68ff-394c-47c1-8c36-529a2df92a4d",
   "metadata": {},
   "outputs": [],
   "source": [
    "fn factorial_rust(n:u64) -> u64{\n",
    "    if n == 0 {\n",
    "        return 1;\n",
    "    } else if n >= 0 {\n",
    "        return n * factorial_rust(n-1);\n",
    "    }\n",
    "    return 0;\n",
    "}"
   ]
  },
  {
   "cell_type": "markdown",
   "id": "5e593804-9e9b-4ce8-b113-1929553a684f",
   "metadata": {},
   "source": [
    "# Rust Implementation and time measure"
   ]
  },
  {
   "cell_type": "code",
   "execution_count": 4,
   "id": "4d5af75d-f516-41bf-8a40-23be4322e962",
   "metadata": {},
   "outputs": [
    {
     "name": "stdout",
     "output_type": "stream",
     "text": [
      "Elapsed: 80ns , with size 10000\n"
     ]
    }
   ],
   "source": [
    "const size : u32 = 10000;\n",
    "let mut vec = Vec::new();\n",
    "for i in 1..=size{\n",
    "    let now = Instant::now();\n",
    "    let mut fact = factorial_rust(20);\n",
    "    vec.push(now.elapsed());\n",
    "}\n",
    "let mut sum_time: u32 = 0;\n",
    "for i in vec.iter(){sum_time+=i.subsec_nanos();}\n",
    "\n",
    "// println!(\"Elapsed: {:.2?}\", elapsed);\n",
    "println!(\"Elapsed: {}ns , with size {}\", sum_time / size, size);"
   ]
  }
 ],
 "metadata": {
  "kernelspec": {
   "display_name": "Rust",
   "language": "rust",
   "name": "rust"
  },
  "language_info": {
   "codemirror_mode": "rust",
   "file_extension": ".rs",
   "mimetype": "text/rust",
   "name": "Rust",
   "pygment_lexer": "rust",
   "version": ""
  }
 },
 "nbformat": 4,
 "nbformat_minor": 5
}
