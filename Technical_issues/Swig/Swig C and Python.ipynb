{
 "cells": [
  {
   "cell_type": "markdown",
   "metadata": {},
   "source": [
    "Did you know you can build C or C++ code and use it in python? You can, and one way to do it is using <a href='https://github.com/swig/swig' target='_blank'>Swig</a> which connect C and C++ programs with many other programming languages.\n",
    "\n",
    "This notebook wants explaining briefly how to create a straightforward python module using some functions written in C. This is a personal experiment for not forgetting how to do it, based on great <a href='https://www.swig.org/Doc1.3/Python.html#Python_nn4' target='_blank'>documentation of Swing</a>. Adding a simple comparative in execution time using a built magic command. The example is the same presented by Swig documentation as initial example, factorial function, and I'll be focused on this function because is a function who has pwerformance challenges when the parameter value is high."
   ]
  },
  {
   "cell_type": "markdown",
   "metadata": {},
   "source": [
    "I'll begin pointing out that for building this basic example we need three files. I mean, when you want coding in C programming language is a good practice begin with header and body **-.h and .c files-** respectively. If you don't know what is each one of these kind of files, I'd suggest you refering to <a href='https://www.amazon.com/-/es/Stephen-Prata/dp/0321776402' target='_blank'> C++ Primer Plus book, by Stephen Prata -chapter 2-</a> or <a href='https://www.amazon.com/Modern-Absolute-Beginners-Introduction-Programming/dp/1484260465' target='_blank'>Modernn C++ for absolute beginners -Chapter 31-</a> to understand better the importance at least of this two C programming language files. The last one is a file with extension **.i**.\n",
    "\n",
    "Worth it to recall a factorial function is a recursive function, where to get the value of it for a number $x$ you'll need the factorial of $x - 1$, or it is at least in theory as you can see in <a href='https://es.wikipedia.org/wiki/Factorial' target='_blank'>Wiki</a>.\n",
    "\n",
    "Now hands to work....."
   ]
  },
  {
   "cell_type": "markdown",
   "metadata": {},
   "source": [
    "# Swig\n",
    "## C -C++- Files, and swig interface\n",
    "In C the files will be (this code is the same you can see on Swig documentation):\n",
    "\n",
    "### header (.h)\n",
    "```C\n",
    "unsigned long long int fact(int n);\n",
    "```\n",
    "\n",
    "### body (.c)\n",
    "\n",
    "This definition is a little different from Swig documentation especifically in data type returned and implementation trying to reduce cyclomatic complexity , being able to calculate until factorial number of 20.\n",
    "\n",
    "```C\n",
    "#include \"example.h\"\n",
    "\n",
    "unsigned long long int fact(int n) {\n",
    "    if (n == 0) {\n",
    "        return 1;\n",
    "    }else if (n > 0){\n",
    "        return n * fact(n - 1);\n",
    "    }\n",
    "    return 0;\n",
    "}\n",
    "```\n",
    "\n",
    "### swig interface (.i)\n",
    "On this file is very importante the first line, where you put **%module xxxx***, because this name after **%module** command will be the name of your module\n",
    "```C\n",
    "%module example\n",
    "\n",
    "%{\n",
    "#define SWIG_FILE_WITH_INIT\n",
    "#include \"example.h\"\n",
    "%}\n",
    "\n",
    "unsigned long long int fact(int n);\n",
    "```"
   ]
  },
  {
   "cell_type": "markdown",
   "metadata": {},
   "source": [
    "## Compiling and getting Swig wrap\n",
    "Now I've gotten the files with functions I want to use from python, but is necessary recall C and C++ are compiled programming languages, on the other hand Python is an interpretable programming language. But you could be wondering why that information is importante. Well, the reason to recall this info regarding this programming languages is because to build a link between them we need to build -compile- first the C or C++ code, but don't worry, Swig will do this for us, you need to have just the files pointed out above and executing the following command from CMD *-if you are using windows-* or Terminal *-if you are using Linux or Mac-*.\n",
    "\n",
    "```bash\n",
    "swig -python example.i\n",
    "```\n",
    "\n",
    "Don't forget I've coded a file named *example.i*, for that reason if you're going to change this file name, you must change it in the command line too. This command will build some additional files in your folder, more especifically one named **example_wrap.c**. It is very important point out always a file like this will be created highligthing this file will have a name related to your **.i** filename, just adding **_wrap.c** at the end."
   ]
  },
  {
   "cell_type": "markdown",
   "metadata": {},
   "source": [
    "## Creating a Python module\n",
    "\n",
    "Having this file you are already prepared for building your python module. For making the python module, python has a very useful module named distutils which you can built extensions and wheels in, and some other kind of packages for python modularity. This module is as easy to use as just create the next python file and execute a command line, thus:\n",
    "\n",
    "```python\n",
    "#!/usr/bin/env python\n",
    "\n",
    "\"\"\"\n",
    "setup.py file for SWIG example\n",
    "\"\"\"\n",
    "\n",
    "from distutils.core import setup, Extension\n",
    "\n",
    "example_module = Extension('_example', sources=['example_wrap.c','example.c'])\n",
    "\n",
    "setup(\n",
    "    name = 'example',\n",
    "    version = '0.1',\n",
    "    author = 'Your Name',\n",
    "    ext_modules=[example_module],\n",
    "    py_modules=['example']\n",
    ")\n",
    "```\n",
    "\n",
    "If you remember just some lines above I pointed out the swig command will create a file named in this example *example_wrap.c*. This file will be an important piece because it will have C compiler directives to traduce some functionalities between C -or C++- and python, and that is the reason we need to compile the C(++) files at first and then we build the python module.\n",
    "\n",
    "After the previous step, we can build the extension using again a CMD or Terminal, depending what OS you are using, like this, taking into account this command line must generate a new file with **.pyd** extension who will be a dynamic library used to python portability programs:\n",
    "\n",
    "```bash\n",
    "python setup.py build_ext --inplace\n",
    "```\n",
    "\n",
    "And that's all to have a module name *example*. So, we can test it in performance, measured by execution time."
   ]
  },
  {
   "cell_type": "markdown",
   "metadata": {},
   "source": [
    "# Performance Test\n",
    "\n",
    "To test it, it makes sense to build exactly the same algorithm for calculating factorial numbers from python code, as was done in C -or C++- programming language.\n",
    "\n",
    "I'll use the magic command **%%timeit** of jupyter notebook"
   ]
  },
  {
   "cell_type": "markdown",
   "metadata": {},
   "source": [
    "## Python code"
   ]
  },
  {
   "cell_type": "code",
   "execution_count": 1,
   "metadata": {},
   "outputs": [],
   "source": [
    "def factorial_py(n):\n",
    "    if n == 0:\n",
    "        return 1\n",
    "    elif n > 0:\n",
    "        return n * factorial_py(n-1)\n",
    "    return 0"
   ]
  },
  {
   "cell_type": "markdown",
   "metadata": {},
   "source": [
    "## Importing python module, built in C"
   ]
  },
  {
   "cell_type": "code",
   "execution_count": 2,
   "metadata": {},
   "outputs": [],
   "source": [
    "import example"
   ]
  },
  {
   "cell_type": "markdown",
   "metadata": {},
   "source": [
    "## Comparing time performance\n",
    "\n",
    "Taking a look on results I got as shown below it is necessary take care on value type returned from C++ function because if you exceed the boundaries in bites on it you'll get a wrong result from C++ funtion."
   ]
  },
  {
   "cell_type": "code",
   "execution_count": 3,
   "metadata": {},
   "outputs": [
    {
     "name": "stdout",
     "output_type": "stream",
     "text": [
      "Python result \t: 2432902008176640000\n",
      "C++ result \t: 2432902008176640000\n"
     ]
    }
   ],
   "source": [
    "print('Python result \\t:',factorial_py(20))\n",
    "print('C++ result \\t:',example.fact(20))"
   ]
  },
  {
   "cell_type": "markdown",
   "metadata": {},
   "source": [
    "### Python"
   ]
  },
  {
   "cell_type": "code",
   "execution_count": 4,
   "metadata": {},
   "outputs": [
    {
     "name": "stdout",
     "output_type": "stream",
     "text": [
      "2.52 µs ± 209 ns per loop (mean ± std. dev. of 7 runs, 10000 loops each)\n"
     ]
    }
   ],
   "source": [
    "%%timeit -n 10000\n",
    "factorial_py(20)"
   ]
  },
  {
   "cell_type": "markdown",
   "metadata": {},
   "source": [
    "### C or C++ using swig"
   ]
  },
  {
   "cell_type": "code",
   "execution_count": 5,
   "metadata": {},
   "outputs": [
    {
     "name": "stdout",
     "output_type": "stream",
     "text": [
      "203 ns ± 13.6 ns per loop (mean ± std. dev. of 7 runs, 10000 loops each)\n"
     ]
    }
   ],
   "source": [
    "%%timeit -n 10000\n",
    "example.fact(20)"
   ]
  },
  {
   "cell_type": "markdown",
   "metadata": {},
   "source": [
    "Those implementations that require calling a class and its methods, refer to the example provided in [here](https://web.mit.edu/svn/src/swig-1.3.25/Examples/python/class/)"
   ]
  },
  {
   "cell_type": "markdown",
   "metadata": {},
   "source": [
    "# Conclusion"
   ]
  },
  {
   "cell_type": "markdown",
   "metadata": {},
   "source": [
    "At first glance when you try to execute many times both python code and the module built in C, you can calculate the average of time performance for each one, and the most of the times you'll get that the code created with C programming language through swig framework has better performance, measured in lower time of execution. With this in mind I'm tempted to say that buildind some calculations in C or C++ and passing it to python for integrating it into a project could be much better than build it on pure python programming language.\n",
    "\n",
    "It is important to hightlight you must be careful when you are coding C++ functions which could return numbers greater than supported by each data type, for example in factorial function of numbers greater than 20, the result can't be stored within a **unsigned long long int** variable, this is a very kwnown trade off between python and C or C++, being python very easy to code without take care of this kind of issues."
   ]
  },
  {
   "cell_type": "markdown",
   "metadata": {},
   "source": [
    "<hr>"
   ]
  },
  {
   "cell_type": "markdown",
   "metadata": {},
   "source": [
    "This could not to be the final version, so if you have some recommendation or comment about this, I will be grateful to hear it, using e-mail <b>craquinterogo@unal.edu.co</b> or <b>cristian.quintero@est.uexternado.edu.co</b>"
   ]
  }
 ],
 "metadata": {
  "hide_input": false,
  "kernelspec": {
   "display_name": "Python 3",
   "language": "python",
   "name": "python3"
  },
  "language_info": {
   "codemirror_mode": {
    "name": "ipython",
    "version": 3
   },
   "file_extension": ".py",
   "mimetype": "text/x-python",
   "name": "python",
   "nbconvert_exporter": "python",
   "pygments_lexer": "ipython3",
   "version": "3.8.6"
  },
  "toc": {
   "base_numbering": 1,
   "nav_menu": {},
   "number_sections": true,
   "sideBar": true,
   "skip_h1_title": false,
   "title_cell": "Table of Contents",
   "title_sidebar": "Contents",
   "toc_cell": false,
   "toc_position": {},
   "toc_section_display": true,
   "toc_window_display": false
  }
 },
 "nbformat": 4,
 "nbformat_minor": 4
}
