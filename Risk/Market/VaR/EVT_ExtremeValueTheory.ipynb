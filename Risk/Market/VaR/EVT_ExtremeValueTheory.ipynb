{
 "cells": [
  {
   "cell_type": "code",
   "execution_count": 1,
   "metadata": {},
   "outputs": [],
   "source": [
    "import pandas as pd\n",
    "import numpy as np\n",
    "import datetime\n",
    "import matplotlib.pyplot as plt\n",
    "from scipy.stats import genpareto, norm\n",
    "import math"
   ]
  },
  {
   "cell_type": "code",
   "execution_count": 2,
   "metadata": {},
   "outputs": [],
   "source": [
    "np.warnings.filterwarnings('ignore')"
   ]
  },
  {
   "cell_type": "markdown",
   "metadata": {},
   "source": [
    "# Objective"
   ]
  },
  {
   "cell_type": "markdown",
   "metadata": {},
   "source": [
    "The aim of this work is to take an insight on the VaR (Value at Risk) approach using EVT (Extreme Value Theory). This is used as an approach to take into account an issue which anothers approachs don't take into account, and with this I mean fat tails. Fat tails do contain valuable information, specially in asset's returns. In fat tails risk managers can get a measure which let them calculate a most realistic level where the biggest losse is possible within a confidence level.\n",
    "\n",
    "Some basic VaR forms, as theoretical parametrical VaR, take a view of asset's returns as a random variable wich is described by a normal distribution, and with this all assumptions this could have. For example normal distribution doesn't have fat tails, and with this the model consider exceptional cases with lower frequency. Market asset's returns don't have this behaviour."
   ]
  },
  {
   "cell_type": "markdown",
   "metadata": {},
   "source": [
    "# Data Reading"
   ]
  },
  {
   "cell_type": "markdown",
   "metadata": {},
   "source": [
    "To complete this goal, we get data of American Express (AXP) close prices from 4-Jan-2011 to 3-Jan-2020. The selection of this stock was random, and no was an output of rigurous study of stocks behaviour. The data was retrieved of <a href='https://www.investing.com/equities/american-express'>Investing.com</a> webpage."
   ]
  },
  {
   "cell_type": "code",
   "execution_count": 3,
   "metadata": {},
   "outputs": [],
   "source": [
    "prices = pd.read_csv('datasource/AXP Historical Data.csv')"
   ]
  },
  {
   "cell_type": "code",
   "execution_count": 4,
   "metadata": {},
   "outputs": [],
   "source": [
    "prices['Date'] = prices['Date'].apply(lambda x: datetime.datetime.strptime(x,'%b %d, %Y'))\n",
    "prices.sort_values(['Date'], inplace=True)\n",
    "prices['Date'] = prices['Date'].dt.to_period('D')\n",
    "prices.set_index('Date', inplace=True)"
   ]
  },
  {
   "cell_type": "code",
   "execution_count": 5,
   "metadata": {},
   "outputs": [],
   "source": [
    "prices['return'] = prices['Price'].pct_change() * 100"
   ]
  },
  {
   "cell_type": "markdown",
   "metadata": {},
   "source": [
    "# American Express returns histogram"
   ]
  },
  {
   "cell_type": "code",
   "execution_count": 6,
   "metadata": {},
   "outputs": [
    {
     "data": {
      "image/png": "[encoded data removed]",
      "text/plain": [
       "<Figure size 1080x504 with 1 Axes>"
      ]
     },
     "metadata": {
      "needs_background": "light"
     },
     "output_type": "display_data"
    }
   ],
   "source": [
    "plt.figure(figsize=(15,7))\n",
    "plt.hist(prices['return'], bins=100)\n",
    "plt.title(\n",
    "    'American Express Stock Returns Histogram : '+\n",
    "    min(prices.index).strftime('%Y-%m-%d')+\n",
    "    ' to '+\n",
    "    max(prices.index).strftime('%Y-%m-%d'),\n",
    "    fontsize=17\n",
    ")\n",
    "plt.xlabel('Return (%)')\n",
    "plt.ylabel('Frequency')\n",
    "plt.show()"
   ]
  },
  {
   "cell_type": "code",
   "execution_count": 7,
   "metadata": {},
   "outputs": [
    {
     "name": "stdout",
     "output_type": "stream",
     "text": [
      "Mean\t\t :  0.05507091359887325\n",
      "Variance\t :  1.8006052702755442\n",
      "Skewness\t :  -0.3857569777177754\n",
      "Kurtosis\t :  7.120513770330035\n"
     ]
    }
   ],
   "source": [
    "print('Mean\\t\\t : ',prices['return'].mean())\n",
    "print('Variance\\t : ',prices['return'].var())\n",
    "print('Skewness\\t : ',prices['return'].skew())\n",
    "print('Kurtosis\\t : ',prices['return'].kurtosis())"
   ]
  },
  {
   "cell_type": "markdown",
   "metadata": {},
   "source": [
    "Is clear with histogram above, the American Express returns don't be described by normal distribution, because it has kurtosis equal to 7.12 (normal distribution has kurtosis = 3), although it has lowest negative skewness of -0.38. In many textbooks point out if distribution has kurtosis greatest than 3, is leptokurtic and then it could has fat-tails. This approach has a broad discution, because it is not necessarilly true <a href='http://www.columbia.edu/~ld208/psymeth97.pdf'>(see DeCarlo, 1997)</a>."
   ]
  },
  {
   "cell_type": "markdown",
   "metadata": {},
   "source": [
    "# EVT (Extreme Value Theory)"
   ]
  },
  {
   "cell_type": "markdown",
   "metadata": {},
   "source": [
    "This is a field into statistics, where the main object of study are events in more unusually large or small levels of a random variable <a href='http://www.dii.uchile.cl/~ceges/publicaciones/ceges51.pdf'>(Fernandez, 2003)</a>. This techniques were developed initially in hydrology and engineering, and after was extended to financial field.\n",
    "\n",
    "This field is a broad topic in statistics where we can find some distributions with fat-tails, nevertheles, in this case to financial risk management, we point out one of the most representative fat-tailed distributions. This is the Pareto distribution. This was a distribution developed by Vilfrido Pareto, and is used to describe the distribution of incomes (this could be related to Pareto Law)."
   ]
  },
  {
   "cell_type": "markdown",
   "metadata": {},
   "source": [
    "After Pareto distribution, a generalized distribution was developed and it very useful, named Generalized Pareto Distribution (GPD). It is an important distribution in EVT, because using this we could complete the Balkema and de Haan theorem, and using a threshold analyze the tails distribution, <a href='http://www.iam.fmph.uniba.sk/institute/jurca/qrm/Chapter4.pdf'>(see Jurca, of Univerzita Komensheko, chapter 4)</a>. The aim of using a threshold is to separate only values considered as extrem values from the other values, in random variable distribution. This let to work with a model which describe them, and just them <a href='https://link.springer.com/book/10.1007/978-1-4471-3675-0'>(see Coles, 2001, pag. 78)</a>. A method which give to us the tools to do it, is named Peak Over Threshold Method (POT-method)  <a href='http://www.diva-portal.org/smash/get/diva2:1231783/FULLTEXT01.pdf'>(see Rydman, 2018)</a>."
   ]
  },
  {
   "cell_type": "markdown",
   "metadata": {},
   "source": [
    "The GPD function is defined by:<br><br>\n",
    "$F(x) = 1 - \\left( 1 - \\frac{\\xi x}{\\sigma}\\right)^\\frac{1}{\\xi}$<br><br>\n",
    "As you can see above, it has two parameters, called <b>$\\xi$</b> which gives the shape to distribution and <b>$\\sigma$</b> which is defined as the scale parameter in the Pareto distribution."
   ]
  },
  {
   "cell_type": "markdown",
   "metadata": {},
   "source": [
    "## Threshold setting"
   ]
  },
  {
   "cell_type": "markdown",
   "metadata": {},
   "source": [
    "As we said before, this approach is looking to describe the tails behaviour. To do this task, is useful POT-method, to determine data which are in tails to model them. This step is important because this involves to set a balance between bias and variance <a href='https://ine.pt/revstat/pdf/rs120102.pdf'>(see Scarrott & MacDonald, 2012)</a>. Quoting Scarrott, et al., <i>\"The threshold must be sufficiently high to ensure that the asymptotics underlying the GPD approximation are reliable, thus reducing the bias. However, the reduced sample size for high thresholds increases the variance of the parameter estimates.\"</i>"
   ]
  },
  {
   "cell_type": "markdown",
   "metadata": {},
   "source": [
    "Following Coles (2001), we need to calculate the threshold excess, wich is the distance between data points above threshold and the threshold, but this must be testing different thresholds. The goal with this is to identify what is the point <b>(threshold, mean excess)</b> which break an aproximatelly linear behaviour."
   ]
  },
  {
   "cell_type": "markdown",
   "metadata": {},
   "source": [
    "We did take negative returns in positive sign of the last nearest year."
   ]
  },
  {
   "cell_type": "code",
   "execution_count": 8,
   "metadata": {},
   "outputs": [],
   "source": [
    "prices = prices[-252:] # Last year"
   ]
  },
  {
   "cell_type": "code",
   "execution_count": 9,
   "metadata": {},
   "outputs": [],
   "source": [
    "negative_returns = prices[prices['return'] < 0][['return']] * -1\n",
    "attempts_ = 40\n",
    "step_ = (negative_returns.max().values[0] - negative_returns.min().values[0]) / attempts_"
   ]
  },
  {
   "cell_type": "code",
   "execution_count": 10,
   "metadata": {},
   "outputs": [
    {
     "name": "stdout",
     "output_type": "stream",
     "text": [
      "Min\t\t:\t 0.008271298593887089\n",
      "Max\t\t:\t 3.688558109102802\n",
      "Attempts\t:\t 40\n",
      "Step size\t:\t 0.09200717026272287\n"
     ]
    }
   ],
   "source": [
    "print('Min\\t\\t:\\t',negative_returns.min().values[0])\n",
    "print('Max\\t\\t:\\t',negative_returns.max().values[0])\n",
    "print('Attempts\\t:\\t',attempts_)\n",
    "print('Step size\\t:\\t',step_)"
   ]
  },
  {
   "cell_type": "code",
   "execution_count": 11,
   "metadata": {},
   "outputs": [],
   "source": [
    "mean_residual_life = pd.DataFrame(columns=['threshold','threshold_excess', 'quantity'])\n",
    "\n",
    "for i in range(attempts_):\n",
    "    threshold_ = negative_returns.min().values[0] + (i*step_)\n",
    "    negative_returns_ = negative_returns[negative_returns['return'] > threshold_]\n",
    "    negative_returns_['threshold_excess'] = negative_returns_['return'] - threshold_\n",
    "    \n",
    "    mean_residual_life.loc[len(mean_residual_life)] = [\n",
    "                                                        threshold_,\n",
    "                                                        negative_returns_['threshold_excess'].mean(),\n",
    "                                                        negative_returns_.shape[0]\n",
    "                                                        ]\n",
    "    del negative_returns_, threshold_"
   ]
  },
  {
   "cell_type": "code",
   "execution_count": 12,
   "metadata": {},
   "outputs": [
    {
     "data": {
      "text/html": [
       "<div>\n",
       "<style scoped>\n",
       "    .dataframe tbody tr th:only-of-type {\n",
       "        vertical-align: middle;\n",
       "    }\n",
       "\n",
       "    .dataframe tbody tr th {\n",
       "        vertical-align: top;\n",
       "    }\n",
       "\n",
       "    .dataframe thead th {\n",
       "        text-align: right;\n",
       "    }\n",
       "</style>\n",
       "<table border=\"1\" class=\"dataframe\">\n",
       "  <thead>\n",
       "    <tr style=\"text-align: right;\">\n",
       "      <th></th>\n",
       "      <th>threshold</th>\n",
       "      <th>threshold_excess</th>\n",
       "      <th>quantity</th>\n",
       "    </tr>\n",
       "  </thead>\n",
       "  <tbody>\n",
       "    <tr>\n",
       "      <th>0</th>\n",
       "      <td>0.008271</td>\n",
       "      <td>0.765193</td>\n",
       "      <td>114.0</td>\n",
       "    </tr>\n",
       "    <tr>\n",
       "      <th>1</th>\n",
       "      <td>0.100278</td>\n",
       "      <td>0.706617</td>\n",
       "      <td>109.0</td>\n",
       "    </tr>\n",
       "    <tr>\n",
       "      <th>2</th>\n",
       "      <td>0.192286</td>\n",
       "      <td>0.727377</td>\n",
       "      <td>93.0</td>\n",
       "    </tr>\n",
       "    <tr>\n",
       "      <th>3</th>\n",
       "      <td>0.284293</td>\n",
       "      <td>0.746218</td>\n",
       "      <td>80.0</td>\n",
       "    </tr>\n",
       "    <tr>\n",
       "      <th>4</th>\n",
       "      <td>0.376300</td>\n",
       "      <td>0.700576</td>\n",
       "      <td>75.0</td>\n",
       "    </tr>\n",
       "    <tr>\n",
       "      <th>5</th>\n",
       "      <td>0.468307</td>\n",
       "      <td>0.734695</td>\n",
       "      <td>63.0</td>\n",
       "    </tr>\n",
       "    <tr>\n",
       "      <th>6</th>\n",
       "      <td>0.560314</td>\n",
       "      <td>0.730416</td>\n",
       "      <td>56.0</td>\n",
       "    </tr>\n",
       "    <tr>\n",
       "      <th>7</th>\n",
       "      <td>0.652321</td>\n",
       "      <td>0.769114</td>\n",
       "      <td>47.0</td>\n",
       "    </tr>\n",
       "    <tr>\n",
       "      <th>8</th>\n",
       "      <td>0.744329</td>\n",
       "      <td>0.805886</td>\n",
       "      <td>40.0</td>\n",
       "    </tr>\n",
       "    <tr>\n",
       "      <th>9</th>\n",
       "      <td>0.836336</td>\n",
       "      <td>0.874501</td>\n",
       "      <td>33.0</td>\n",
       "    </tr>\n",
       "  </tbody>\n",
       "</table>\n",
       "</div>"
      ],
      "text/plain": [
       "   threshold  threshold_excess  quantity\n",
       "0   0.008271          0.765193     114.0\n",
       "1   0.100278          0.706617     109.0\n",
       "2   0.192286          0.727377      93.0\n",
       "3   0.284293          0.746218      80.0\n",
       "4   0.376300          0.700576      75.0\n",
       "5   0.468307          0.734695      63.0\n",
       "6   0.560314          0.730416      56.0\n",
       "7   0.652321          0.769114      47.0\n",
       "8   0.744329          0.805886      40.0\n",
       "9   0.836336          0.874501      33.0"
      ]
     },
     "execution_count": 12,
     "metadata": {},
     "output_type": "execute_result"
    }
   ],
   "source": [
    "mean_residual_life.head(10)"
   ]
  },
  {
   "cell_type": "code",
   "execution_count": 13,
   "metadata": {},
   "outputs": [
    {
     "data": {
      "image/png": "[encoded data removed]",
      "text/plain": [
       "<Figure size 1080x288 with 1 Axes>"
      ]
     },
     "metadata": {
      "needs_background": "light"
     },
     "output_type": "display_data"
    }
   ],
   "source": [
    "plt.figure(figsize=(15,4))\n",
    "\n",
    "threshold_selected_ = 0.560314\n",
    "\n",
    "plt.title('Mean Residual Life', fontsize=20)\n",
    "plt.plot(mean_residual_life['threshold'], mean_residual_life['threshold_excess'])\n",
    "plt.axvline(x=threshold_selected_, color='r', linestyle='--')\n",
    "plt.ylabel('Threshold Excess')\n",
    "plt.xlabel('Threshold')\n",
    "plt.show()"
   ]
  },
  {
   "cell_type": "markdown",
   "metadata": {},
   "source": [
    "The Mean Residual Life, designed by Coles (2001) did say us the threshold to capture the data which was used to determine the $\\xi$ and $\\sigma$ parameters in Generalized Pareto Distribution. <i>Initially, and for now, the selection was done graphically, saying with this which for future works of this subject, we will improve this aspect including some metric or matematical procedure to identify this threshold point</i>."
   ]
  },
  {
   "cell_type": "markdown",
   "metadata": {},
   "source": [
    "## Parameters Estimation"
   ]
  },
  {
   "cell_type": "markdown",
   "metadata": {},
   "source": [
    "Having seen a very brief introduction of EVT before, we cuould say that is necessary to get two fundamental parameters to solve GPD, being $\\sigma$ as scale parameter and $\\xi$ as shape parameter in GPD distribution. This parameters could be resolved by maximum likelihood method, as was described by Grimshaw (Computing maximum likelihood estimates for the generalized pareto distribution, 1993). But this parameters don't have a closed-form solution <a href='https://digitalcommons.wayne.edu/cgi/viewcontent.cgi?article=2608&context=jmasm'>(see Pahm & Tsokos & Choi, 2019)</a>. Because it we did get the parameters of GPD using genpareto function in <b>scipy.stats</b> python package. This function returns shape $\\xi$, location $\\mu$, and scale $\\sigma$"
   ]
  },
  {
   "cell_type": "code",
   "execution_count": 14,
   "metadata": {},
   "outputs": [],
   "source": [
    "shape, location, scale = genpareto.fit(\n",
    "                            negative_returns[\n",
    "                                (~negative_returns['return'].isnull())\n",
    "                                &\n",
    "                                (negative_returns['return'] >= threshold_selected_)\n",
    "                            ]['return'].values.tolist()\n",
    "                            )"
   ]
  },
  {
   "cell_type": "code",
   "execution_count": 15,
   "metadata": {},
   "outputs": [
    {
     "name": "stdout",
     "output_type": "stream",
     "text": [
      "Shape\t\t: 0.17739604369840437\n",
      "Location\t: 0.5660822370796804\n",
      "Scale\t\t: 0.6028947337670145\n"
     ]
    }
   ],
   "source": [
    "print('Shape\\t\\t:',shape)\n",
    "print('Location\\t:',location)\n",
    "print('Scale\\t\\t:',scale)"
   ]
  },
  {
   "cell_type": "markdown",
   "metadata": {},
   "source": [
    "# Value at Risk (VaR)"
   ]
  },
  {
   "cell_type": "markdown",
   "metadata": {},
   "source": [
    "## EVT"
   ]
  },
  {
   "cell_type": "markdown",
   "metadata": {},
   "source": [
    "As was pointed out by Fernandez (2003), an estimate VaR-EVT is defined as:\n",
    "\n",
    "$\\hat{VaR} = \\mu + \\frac{\\hat{\\beta}}{\\hat{\\xi}}\\left( \\left( \\alpha\\frac{N}{N_u} \\right)^{-\\xi}-1 \\right)$\n",
    "\n",
    "In this formula the parameters $N_u$ is the number of data points whose returns are above threshold, $N$ is the size of returns including negative and positive returns and $\\alpha$ parameter is the significance level. The $\\mu$ parameter is not the mean, so it should not be confused with $\\mu_{parametricVaR}$"
   ]
  },
  {
   "cell_type": "code",
   "execution_count": 16,
   "metadata": {},
   "outputs": [],
   "source": [
    "# nu_ is the size of negative returns which are bigger, than threshold\n",
    "nu_ = negative_returns[\n",
    "            (~negative_returns['return'].isnull())\n",
    "            &\n",
    "            (negative_returns['return'] >= threshold_selected_)\n",
    "        ].shape[0]\n",
    "\n",
    "# n_ is the size of returns\n",
    "n_ = prices.shape[0]"
   ]
  },
  {
   "cell_type": "code",
   "execution_count": 17,
   "metadata": {},
   "outputs": [],
   "source": [
    "def calculate_var_evt(location, scale, shape, n, nu, significance):\n",
    "    var_evt = location + (scale / shape) * ( math.pow(significance * n  / nu,-shape) - 1)\n",
    "    return var_evt"
   ]
  },
  {
   "cell_type": "code",
   "execution_count": 18,
   "metadata": {},
   "outputs": [],
   "source": [
    "evt_test = pd.DataFrame(columns=['significance_level', 'var_evt'])\n",
    "for significance_i in np.arange(0.005,0.07,0.005).tolist():\n",
    "    var_evt = calculate_var_evt(location=location, scale=scale, shape=shape, n=n_, nu=nu_, significance=significance_i)\n",
    "    evt_test.loc[len(evt_test)] = [significance_i, var_evt]\n",
    "    del var_evt"
   ]
  },
  {
   "cell_type": "code",
   "execution_count": 19,
   "metadata": {},
   "outputs": [
    {
     "data": {
      "text/html": [
       "<div>\n",
       "<style scoped>\n",
       "    .dataframe tbody tr th:only-of-type {\n",
       "        vertical-align: middle;\n",
       "    }\n",
       "\n",
       "    .dataframe tbody tr th {\n",
       "        vertical-align: top;\n",
       "    }\n",
       "\n",
       "    .dataframe thead th {\n",
       "        text-align: right;\n",
       "    }\n",
       "</style>\n",
       "<table border=\"1\" class=\"dataframe\">\n",
       "  <thead>\n",
       "    <tr style=\"text-align: right;\">\n",
       "      <th></th>\n",
       "      <th>significance_level</th>\n",
       "      <th>var_evt</th>\n",
       "    </tr>\n",
       "  </thead>\n",
       "  <tbody>\n",
       "    <tr>\n",
       "      <th>0</th>\n",
       "      <td>0.005</td>\n",
       "      <td>3.829643</td>\n",
       "    </tr>\n",
       "    <tr>\n",
       "      <th>1</th>\n",
       "      <td>0.010</td>\n",
       "      <td>3.058818</td>\n",
       "    </tr>\n",
       "    <tr>\n",
       "      <th>2</th>\n",
       "      <td>0.015</td>\n",
       "      <td>2.649949</td>\n",
       "    </tr>\n",
       "    <tr>\n",
       "      <th>3</th>\n",
       "      <td>0.020</td>\n",
       "      <td>2.377179</td>\n",
       "    </tr>\n",
       "    <tr>\n",
       "      <th>4</th>\n",
       "      <td>0.025</td>\n",
       "      <td>2.174983</td>\n",
       "    </tr>\n",
       "    <tr>\n",
       "      <th>5</th>\n",
       "      <td>0.030</td>\n",
       "      <td>2.015617</td>\n",
       "    </tr>\n",
       "    <tr>\n",
       "      <th>6</th>\n",
       "      <td>0.035</td>\n",
       "      <td>1.884838</td>\n",
       "    </tr>\n",
       "    <tr>\n",
       "      <th>7</th>\n",
       "      <td>0.040</td>\n",
       "      <td>1.774407</td>\n",
       "    </tr>\n",
       "    <tr>\n",
       "      <th>8</th>\n",
       "      <td>0.045</td>\n",
       "      <td>1.679148</td>\n",
       "    </tr>\n",
       "    <tr>\n",
       "      <th>9</th>\n",
       "      <td>0.050</td>\n",
       "      <td>1.595606</td>\n",
       "    </tr>\n",
       "    <tr>\n",
       "      <th>10</th>\n",
       "      <td>0.055</td>\n",
       "      <td>1.521366</td>\n",
       "    </tr>\n",
       "    <tr>\n",
       "      <th>11</th>\n",
       "      <td>0.060</td>\n",
       "      <td>1.454678</td>\n",
       "    </tr>\n",
       "    <tr>\n",
       "      <th>12</th>\n",
       "      <td>0.065</td>\n",
       "      <td>1.394234</td>\n",
       "    </tr>\n",
       "  </tbody>\n",
       "</table>\n",
       "</div>"
      ],
      "text/plain": [
       "    significance_level   var_evt\n",
       "0                0.005  3.829643\n",
       "1                0.010  3.058818\n",
       "2                0.015  2.649949\n",
       "3                0.020  2.377179\n",
       "4                0.025  2.174983\n",
       "5                0.030  2.015617\n",
       "6                0.035  1.884838\n",
       "7                0.040  1.774407\n",
       "8                0.045  1.679148\n",
       "9                0.050  1.595606\n",
       "10               0.055  1.521366\n",
       "11               0.060  1.454678\n",
       "12               0.065  1.394234"
      ]
     },
     "execution_count": 19,
     "metadata": {},
     "output_type": "execute_result"
    }
   ],
   "source": [
    "evt_test"
   ]
  },
  {
   "cell_type": "markdown",
   "metadata": {},
   "source": [
    "## Parametric"
   ]
  },
  {
   "cell_type": "markdown",
   "metadata": {},
   "source": [
    "The simple case of parametric VaR, consist in take the assumption, commonly taught in finance field, where asset returns have normal distribution. Before we said this assumption make difficult some analysis within fat-tails, and this is the reason to calculate this, to take a view of that. The calculous formula is:\n",
    "\n",
    "$\\hat{VaR} = \\mu + \\sigma Z_\\alpha$\n",
    "\n",
    "Where $\\mu$ is the mean of returns, $\\sigma$ is the standar deviation of returns and $Z_\\alpha$ is the standarized value at a $\\alpha$ significance level."
   ]
  },
  {
   "cell_type": "code",
   "execution_count": 20,
   "metadata": {},
   "outputs": [],
   "source": [
    "mean_ = prices['return'].mean()\n",
    "std_ = prices['return'].std()"
   ]
  },
  {
   "cell_type": "code",
   "execution_count": 21,
   "metadata": {},
   "outputs": [],
   "source": [
    "def calculate_var_parametric(mean, std, significance):\n",
    "    var_par = mean + std * norm.ppf(significance, loc=0, scale=1)\n",
    "    return var_par"
   ]
  },
  {
   "cell_type": "code",
   "execution_count": 22,
   "metadata": {},
   "outputs": [],
   "source": [
    "parametric_test = pd.DataFrame(columns=['significance_level', 'var_parametric'])\n",
    "for significance_i in np.arange(0.005,0.07,0.005).tolist():\n",
    "    var_parametric = calculate_var_parametric(mean=mean_, std=std_, significance=significance_i)\n",
    "    parametric_test.loc[len(parametric_test)] = [significance_i, -var_parametric]\n",
    "    del var_parametric"
   ]
  },
  {
   "cell_type": "code",
   "execution_count": 23,
   "metadata": {},
   "outputs": [
    {
     "data": {
      "text/html": [
       "<div>\n",
       "<style scoped>\n",
       "    .dataframe tbody tr th:only-of-type {\n",
       "        vertical-align: middle;\n",
       "    }\n",
       "\n",
       "    .dataframe tbody tr th {\n",
       "        vertical-align: top;\n",
       "    }\n",
       "\n",
       "    .dataframe thead th {\n",
       "        text-align: right;\n",
       "    }\n",
       "</style>\n",
       "<table border=\"1\" class=\"dataframe\">\n",
       "  <thead>\n",
       "    <tr style=\"text-align: right;\">\n",
       "      <th></th>\n",
       "      <th>significance_level</th>\n",
       "      <th>var_parametric</th>\n",
       "    </tr>\n",
       "  </thead>\n",
       "  <tbody>\n",
       "    <tr>\n",
       "      <th>0</th>\n",
       "      <td>0.005</td>\n",
       "      <td>2.639238</td>\n",
       "    </tr>\n",
       "    <tr>\n",
       "      <th>1</th>\n",
       "      <td>0.010</td>\n",
       "      <td>2.371989</td>\n",
       "    </tr>\n",
       "    <tr>\n",
       "      <th>2</th>\n",
       "      <td>0.015</td>\n",
       "      <td>2.204604</td>\n",
       "    </tr>\n",
       "    <tr>\n",
       "      <th>3</th>\n",
       "      <td>0.020</td>\n",
       "      <td>2.079977</td>\n",
       "    </tr>\n",
       "    <tr>\n",
       "      <th>4</th>\n",
       "      <td>0.025</td>\n",
       "      <td>1.979513</td>\n",
       "    </tr>\n",
       "    <tr>\n",
       "      <th>5</th>\n",
       "      <td>0.030</td>\n",
       "      <td>1.894704</td>\n",
       "    </tr>\n",
       "    <tr>\n",
       "      <th>6</th>\n",
       "      <td>0.035</td>\n",
       "      <td>1.820916</td>\n",
       "    </tr>\n",
       "    <tr>\n",
       "      <th>7</th>\n",
       "      <td>0.040</td>\n",
       "      <td>1.755331</td>\n",
       "    </tr>\n",
       "    <tr>\n",
       "      <th>8</th>\n",
       "      <td>0.045</td>\n",
       "      <td>1.696105</td>\n",
       "    </tr>\n",
       "    <tr>\n",
       "      <th>9</th>\n",
       "      <td>0.050</td>\n",
       "      <td>1.641962</td>\n",
       "    </tr>\n",
       "    <tr>\n",
       "      <th>10</th>\n",
       "      <td>0.055</td>\n",
       "      <td>1.591978</td>\n",
       "    </tr>\n",
       "    <tr>\n",
       "      <th>11</th>\n",
       "      <td>0.060</td>\n",
       "      <td>1.545466</td>\n",
       "    </tr>\n",
       "    <tr>\n",
       "      <th>12</th>\n",
       "      <td>0.065</td>\n",
       "      <td>1.501898</td>\n",
       "    </tr>\n",
       "  </tbody>\n",
       "</table>\n",
       "</div>"
      ],
      "text/plain": [
       "    significance_level  var_parametric\n",
       "0                0.005        2.639238\n",
       "1                0.010        2.371989\n",
       "2                0.015        2.204604\n",
       "3                0.020        2.079977\n",
       "4                0.025        1.979513\n",
       "5                0.030        1.894704\n",
       "6                0.035        1.820916\n",
       "7                0.040        1.755331\n",
       "8                0.045        1.696105\n",
       "9                0.050        1.641962\n",
       "10               0.055        1.591978\n",
       "11               0.060        1.545466\n",
       "12               0.065        1.501898"
      ]
     },
     "execution_count": 23,
     "metadata": {},
     "output_type": "execute_result"
    }
   ],
   "source": [
    "parametric_test"
   ]
  },
  {
   "cell_type": "markdown",
   "metadata": {},
   "source": [
    "## Comparison"
   ]
  },
  {
   "cell_type": "code",
   "execution_count": 24,
   "metadata": {},
   "outputs": [],
   "source": [
    "df_test = pd.merge(\n",
    "                evt_test,\n",
    "                parametric_test,\n",
    "                on=['significance_level'],\n",
    "                how='outer'\n",
    "            )\n",
    "\n",
    "df_test['differences'] = df_test['var_evt'] - df_test['var_parametric']"
   ]
  },
  {
   "cell_type": "code",
   "execution_count": 25,
   "metadata": {},
   "outputs": [],
   "source": [
    "df_test.to_csv('datasource/results/EVT/evt_results.csv', index=False)"
   ]
  },
  {
   "cell_type": "code",
   "execution_count": 26,
   "metadata": {},
   "outputs": [
    {
     "data": {
      "image/png": "[encoded data removed]",
      "text/plain": [
       "<Figure size 1080x504 with 2 Axes>"
      ]
     },
     "metadata": {
      "needs_background": "light"
     },
     "output_type": "display_data"
    }
   ],
   "source": [
    "plt.figure(figsize=(15,7))\n",
    "\n",
    "plt.subplot(2,1,1)\n",
    "plt.plot(df_test['significance_level'], df_test['var_evt'], label='VaR-EVT')\n",
    "plt.plot(df_test['significance_level'], df_test['var_parametric'], label='VaR-parametric')\n",
    "plt.title('Value at Risk - VaR', fontsize=20)\n",
    "plt.ylabel('VaR (%)')\n",
    "plt.legend()\n",
    "\n",
    "plt.subplot(2,1,2)\n",
    "plt.plot(df_test['significance_level'], df_test['differences'], label='Difference EVT-parametric')\n",
    "plt.axhline(y=0, color='r', linestyle='dotted', alpha=0.7, label='Zero-level')\n",
    "plt.ylabel('Difference EVT-param (%)')\n",
    "plt.xlabel('Significance Level')\n",
    "plt.legend()\n",
    "\n",
    "plt.show()"
   ]
  },
  {
   "cell_type": "markdown",
   "metadata": {},
   "source": [
    "# Conclusion"
   ]
  },
  {
   "cell_type": "markdown",
   "metadata": {},
   "source": [
    "Comparing two methods to calculate VaR, we found the EVT method give us a biggest level of losses than parametric, but not in all significance levels. Was particularly interesting to see the difference between EVT output substracting parametric output at the same significance level, tend to be lower, passing throught zero nearest 5% significance level. Nevertheless, as was described by XXXX, \"VaR calculated from EVT will be bigger than historical-simulation VaR and normal VaR, especially at high confidence levels..\" <a href='https://www.amazon.com/Enterprise-Risk-Analytics-Capital-Markets/dp/1491744928'>(see Reddy, 2014, page 158)</a>"
   ]
  },
  {
   "cell_type": "markdown",
   "metadata": {},
   "source": [
    "# Bibliography"
   ]
  },
  {
   "cell_type": "markdown",
   "metadata": {},
   "source": [
    "* <b>Coles, S. (2001)</b>. An introduction to statistical modeling extreme values.\n",
    "* <b>DeCarlo, L. (1997)</b>. On the meaning and use of kurtosis. American psycological association, Inc.\n",
    "* <b>Fernandez, V. (2003)</b>. Extreme value theory: Value at risk and returns dependence around the world.\n",
    "* <b>Jurca, P. (2019)</b>. Course cuantitative methods of risk management. Univerzita Komensheko.\n",
    "* <b>Pham, M. & Tsokos, C. & Choi, B. (2019)</b>. Maximum likelihood estimation for the generalized pareto distribution and goodness of fit test with censored data. Vol, 17. Number 2.\n",
    "* <b>Reddy, R. (2014)</b>. Enterprise risk analytics for capital markets: proactive and real-time risk management.\n",
    "* <b>Rydman, M. (2018)</b>. Application of the Peak-Over-Threshold method on insurance data.\n",
    "* <b>Scarrott, C. & MacDonald, A. (2012)</b>. A review of extreme value threshold estimation and uncertainty quantification. Vol, 10. Number 1."
   ]
  },
  {
   "cell_type": "markdown",
   "metadata": {},
   "source": [
    "<hr>"
   ]
  },
  {
   "cell_type": "markdown",
   "metadata": {},
   "source": [
    "This could not to be the final version, so if you have some recommendation or comment about this, I will be grateful to hear it, using e-mail <b>craquinterogo@unal.edu.co</b> or <b>cristian.quintero@est.uexternado.edu.co</b>"
   ]
  }
 ],
 "metadata": {
  "kernelspec": {
   "display_name": "Python 3",
   "language": "python",
   "name": "python3"
  },
  "language_info": {
   "codemirror_mode": {
    "name": "ipython",
    "version": 3
   },
   "file_extension": ".py",
   "mimetype": "text/x-python",
   "name": "python",
   "nbconvert_exporter": "python",
   "pygments_lexer": "ipython3",
   "version": "3.6.9"
  },
  "toc": {
   "base_numbering": 1,
   "nav_menu": {},
   "number_sections": true,
   "sideBar": true,
   "skip_h1_title": false,
   "title_cell": "Table of Contents",
   "title_sidebar": "Contents",
   "toc_cell": false,
   "toc_position": {},
   "toc_section_display": true,
   "toc_window_display": false
  }
 },
 "nbformat": 4,
 "nbformat_minor": 2
}
