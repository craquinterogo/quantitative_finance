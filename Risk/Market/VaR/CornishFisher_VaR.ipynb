{
 "cells": [
  {
   "cell_type": "code",
   "execution_count": 1,
   "metadata": {},
   "outputs": [],
   "source": [
    "import pandas as pd\n",
    "import numpy as np\n",
    "import datetime\n",
    "import matplotlib.pyplot as plt\n",
    "from scipy.stats import genpareto, norm\n",
    "import math"
   ]
  },
  {
   "cell_type": "code",
   "execution_count": 2,
   "metadata": {},
   "outputs": [],
   "source": [
    "np.warnings.filterwarnings('ignore')"
   ]
  },
  {
   "cell_type": "code",
   "execution_count": 3,
   "metadata": {},
   "outputs": [],
   "source": [
    "prices = pd.read_csv('datasource/AXP Historical Data.csv')"
   ]
  },
  {
   "cell_type": "code",
   "execution_count": 4,
   "metadata": {},
   "outputs": [],
   "source": [
    "prices['Date'] = prices['Date'].apply(lambda x: datetime.datetime.strptime(x,'%b %d, %Y'))\n",
    "prices.sort_values(['Date'], inplace=True)\n",
    "prices.reset_index(drop=True, inplace=True)"
   ]
  },
  {
   "cell_type": "code",
   "execution_count": 5,
   "metadata": {},
   "outputs": [],
   "source": [
    "prices['return'] = prices['Price'].pct_change() * 100"
   ]
  },
  {
   "cell_type": "markdown",
   "metadata": {},
   "source": [
    "# American Express returns histogram"
   ]
  },
  {
   "cell_type": "code",
   "execution_count": 6,
   "metadata": {},
   "outputs": [
    {
     "data": {
      "image/png": "[encoded data removed]",
      "text/plain": [
       "<Figure size 1080x504 with 1 Axes>"
      ]
     },
     "metadata": {
      "needs_background": "light"
     },
     "output_type": "display_data"
    }
   ],
   "source": [
    "plt.figure(figsize=(15,7))\n",
    "plt.hist(prices['return'], bins=100)\n",
    "plt.title(\n",
    "    'American Express Stock Returns Histogram : '+\n",
    "    min(prices['Date']).date().strftime('%Y-%m-%d')+\n",
    "    ' to '+\n",
    "    max(prices['Date']).date().strftime('%Y-%m-%d'),\n",
    "    fontsize=17\n",
    ")\n",
    "plt.xlabel('Return (%)')\n",
    "plt.ylabel('Frequency')\n",
    "plt.show()"
   ]
  },
  {
   "cell_type": "code",
   "execution_count": 7,
   "metadata": {},
   "outputs": [
    {
     "name": "stdout",
     "output_type": "stream",
     "text": [
      "Mean\t\t :  0.05507091359887325\n",
      "Variance\t :  1.8006052702755442\n",
      "Skewness\t :  -0.3857569777177754\n",
      "Kurtosis\t :  7.120513770330035\n"
     ]
    }
   ],
   "source": [
    "print('Mean\\t\\t : ',prices['return'].mean())\n",
    "print('Variance\\t : ',prices['return'].var())\n",
    "print('Skewness\\t : ',prices['return'].skew())\n",
    "print('Kurtosis\\t : ',prices['return'].kurtosis())"
   ]
  },
  {
   "cell_type": "markdown",
   "metadata": {},
   "source": [
    "# Cornish y Fisher\n",
    "\n",
    "The Cornish and Fisher expansion is, as we can see in this <a href=\"https://www.riskconcile.com/wp-content/uploads/2020/03/cornish_fisher.html\">webpage</a>, <i>\"an asymptotic expansion used to approximate the quantiles of a probability distribution based on its moments\"</i>. Basically this expansion does allow to get percentiles from non-normal distributions applying a closed form formula, using the first 4 moments, such as: mean, variance, skewness and excess kurtosis.\n",
    "\n",
    "About C-F anatomy, we can see <a href=\"https://www.riskconcile.com/wp-content/uploads/2020/03/cornish_fisher_2.html\">this</a>, where with:\n",
    "\n",
    "* $Z_{CF,\\alpha}$ the Cornish Fisher Z\n",
    "* $Z_{\\alpha}$ where $Z_{\\alpha} \\thicksim N(0,1)$\n",
    "* $S$, the skewness coefficient\n",
    "* $K$, the excess coefficient\n",
    "\n",
    "$Z_{CF,\\alpha} = Z_{\\alpha} + \\frac{1}{6}(Z_{\\alpha}^2-1)S + \\frac{1}{24}(Z_{\\alpha}^3-3Z_{\\alpha})K - \\frac{1}{36}(2Z_{\\alpha}^3-5Z_{\\alpha})S^2$"
   ]
  },
  {
   "cell_type": "code",
   "execution_count": 8,
   "metadata": {},
   "outputs": [],
   "source": [
    "Z_CF = lambda S, K, Z_alpha: Z_alpha + \\\n",
    "                            (1/6)*(Z_alpha**2-1)*S+\\\n",
    "                            (1/24)*(Z_alpha**3-3*Z_alpha)*K-\\\n",
    "                            (1/36)*(2*Z_alpha**3-5*Z_alpha)*S**2"
   ]
  },
  {
   "cell_type": "markdown",
   "metadata": {},
   "source": [
    "A very important issue about the formula above, is $S$ and $K$ are not the actual skewness and excess kurtosis, or observed. This parameters must be calculated. In this way, some authos like <a href='https://papers.ssrn.com/sol3/papers.cfm?abstract_id=1997178'>(Maillard, D. 2018)</a> and <a href=\"https://link.springer.com/article/10.1007%2Fs10479-018-2792-4\">(Amédée, C & Barthélémy, F & Maillard, D. 2018)</a> did show some values, the first one, and a method, the second one, in their articles.\n",
    "\n",
    "In Amédée, et. al (2018) article, they resolved the $S$ and $K$ coefficient following the RSM (Response Surface Methodology), given as result this:\n",
    "\n",
    "$\n",
    "K = −5.963 + 21.52S_o^{\\frac{1}{2}} − 1.548 K_o^{\\frac{1}{2}} − 26.52 S_o + 1.820 K_o + 11.08 S_o^{\\frac{3}{2}} − 0.442 K_o^{\\frac{3}{2}}\\\\\n",
    "\\hspace{1cm}− 2.564 S_o^{\\frac{1}{2}} K_o + 5.740 S_o K_o^{\\frac{1}{2}} + 0.342 S_o^2 + 0.0016 K_o^2 + 0.880 S_o K_o\\\\\n",
    "\\hspace{1cm}− 3.773 S_o^{\\frac{3}{2}} K_o^{\\frac{1}{2}} + 0.033 S_o^{\\frac{1}{2}} K_o^{\\frac{3}{2}} + 0.001 S_o K_o^2 + 0.072 S_o^2 K_o − 0.021 S_o^{\\frac{3}{2}} K_o^{\\frac{3}{2}}\\\\\n",
    "\\hspace{1cm}− 0.721 ln(S_o) ln(K_o) + 0.349 ln(S_o) K_o + 0.366 S_o ln(K_o) + 0.366 S_o^{-1} − 0.555 K_o^{-1}\\\\\n",
    "$\n",
    "\n",
    "$\n",
    "S = −1.816 + 6.812 S_o^{\\frac{1}{2}} − 0.577K_o^{\\frac{1}{2}} − 8.635S_o + 0.508K_o + 4.235S_o^{\\frac{3}{2}} − 0.007K_o^{\\frac{3}{2}}\\\\\n",
    "\\hspace{1cm}− 0.848S_o^{\\frac{1}{2}}K_o + 2.671S_oK_o^{\\frac{1}{2}} − 0.097S_o^2 − 0.0003K_o^2 + 0.225 S_oK_o\\\\\n",
    "\\hspace{1cm}− 1.258S_o^{\\frac{3}{2}}K_o^{\\frac{1}{2}} + 0.019 S_o^{\\frac{1}{2}}K_o^{\\frac{3}{2}} + 0.0002S_oK_o^2 + 0.025S_o^2K_o − 0.0067 S_o^{\\frac{3}{2}}K_o^{\\frac{3}{2}}\\\\\n",
    "\\hspace{1cm}− 0.105ln(S_o) ln(K_o) + 0.098 ln(S_o)K_o − 0.845S_oln(K_o) + 0.134S_o^{-1} − 0.416 K_o^{-1}\n",
    "$\n",
    "\n",
    "With $S_o$ and $K_o$ as skewness and excess return observed."
   ]
  },
  {
   "cell_type": "code",
   "execution_count": 9,
   "metadata": {},
   "outputs": [
    {
     "name": "stdout",
     "output_type": "stream",
     "text": [
      "0.3857569777177754\n",
      "7.120513770330035\n"
     ]
    }
   ],
   "source": [
    "S_o = prices['return'].skew() * np.sign(prices['return'].skew())\n",
    "K_o = prices['return'].kurtosis()\n",
    "print(S_o)\n",
    "print(K_o)"
   ]
  },
  {
   "cell_type": "code",
   "execution_count": 10,
   "metadata": {},
   "outputs": [],
   "source": [
    "coeffs = np.array([\n",
    "    1, math.sqrt(S_o), math.sqrt(K_o), S_o, K_o, S_o**(3/2), K_o**(3/2), math.sqrt(S_o)*K_o,\n",
    "    math.sqrt(K_o)*S_o, S_o**2, K_o**2, S_o*K_o, (S_o**(3/2))*math.sqrt(K_o), (K_o**(3/2))*math.sqrt(S_o),\n",
    "    S_o*(K_o**2), (S_o**2)*K_o,(S_o**(3/2))*(K_o**(3/2)),math.log(S_o)*math.log(K_o),\n",
    "    math.log(S_o)*K_o, S_o*math.log(K_o), 1/S_o, 1/K_o\n",
    "])"
   ]
  },
  {
   "cell_type": "code",
   "execution_count": 11,
   "metadata": {},
   "outputs": [],
   "source": [
    "K_val = np.array([\n",
    "    -5.963, 21.52, -1.548, -26.52, 1.820, 11.08, -0.442, -2.564,\n",
    "    5.740, 0.342, 0.0016,0.880, -3.773, 0.033, 0.001, 0.072,\n",
    "    -0.021,-0.721, 0.349, 0.366, 0.366, -0.555\n",
    "])"
   ]
  },
  {
   "cell_type": "code",
   "execution_count": 12,
   "metadata": {},
   "outputs": [],
   "source": [
    "S_val = np.array([\n",
    "    -1.816, 6.812, -0.577, -8.635, 0.508, 4.235, -0.007,\n",
    "    -0.848, 2.671, -0.097, -0.0003, 0.225,-1.258, 0.019,\n",
    "    0.0002, 0.025, -0.0067,-0.105, 0.098, -0.845, 0.134, -0.416\n",
    "])"
   ]
  },
  {
   "cell_type": "code",
   "execution_count": 13,
   "metadata": {},
   "outputs": [
    {
     "name": "stdout",
     "output_type": "stream",
     "text": [
      "-4.517397445678776\n",
      "0.23117313776444665\n"
     ]
    }
   ],
   "source": [
    "K_CF = K_val @ coeffs.T\n",
    "S_CF = S_val @ coeffs.T\n",
    "print(K_CF)\n",
    "print(S_CF)"
   ]
  },
  {
   "cell_type": "markdown",
   "metadata": {},
   "source": [
    "One problem is raised when we use this approach. It is the $K_{CF}$, because result is negative and far away from Maillard's K value. For this reason, we choose the numbers given by Maillard (2012) in him Appendix 2."
   ]
  },
  {
   "cell_type": "code",
   "execution_count": 14,
   "metadata": {},
   "outputs": [],
   "source": [
    "K_CF = 2.796\n",
    "S_CF = 0.234\n",
    "alpha = 0.01"
   ]
  },
  {
   "cell_type": "code",
   "execution_count": 15,
   "metadata": {},
   "outputs": [
    {
     "data": {
      "text/plain": [
       "-2.7873477303007497"
      ]
     },
     "execution_count": 15,
     "metadata": {},
     "output_type": "execute_result"
    }
   ],
   "source": [
    "Z_CF_v = Z_CF(S_CF, K_CF , norm.ppf(alpha))\n",
    "Z_CF_v"
   ]
  },
  {
   "cell_type": "markdown",
   "metadata": {},
   "source": [
    "Now, we need to calculate $VaR_{CF,\\alpha}$ as:\n",
    "\n",
    "$VaR_{CF,\\alpha} = \\mu + Z_{CF,\\alpha} \\sigma_{CF}$\n",
    "\n",
    "where $\\sigma_{CF}$, following (Amédée, C & Barthélémy, F & Maillard, D. 2018) is:\n",
    "\n",
    "$\\sigma_{CF} = \\frac{\\sigma}{\\sqrt{\n",
    "1+\\frac{1}{96}K^2+\\frac{25}{1296}S^4-\\frac{1}{36}KS^2\n",
    "}}$"
   ]
  },
  {
   "cell_type": "code",
   "execution_count": 16,
   "metadata": {},
   "outputs": [],
   "source": [
    "sigma_CF = prices['return'].std()/math.sqrt(1+(1/96)*(K_CF**2)+(25/1296)*(S_CF**4)-(1/36)*K_CF*(S_CF**2))"
   ]
  },
  {
   "cell_type": "code",
   "execution_count": 17,
   "metadata": {},
   "outputs": [],
   "source": [
    "VaR_CF = prices['return'].mean() + Z_CF_v*sigma_CF"
   ]
  },
  {
   "cell_type": "code",
   "execution_count": 18,
   "metadata": {},
   "outputs": [
    {
     "data": {
      "text/plain": [
       "-3.5485944261962876"
      ]
     },
     "execution_count": 18,
     "metadata": {},
     "output_type": "execute_result"
    }
   ],
   "source": [
    "VaR_CF"
   ]
  },
  {
   "cell_type": "code",
   "execution_count": 19,
   "metadata": {},
   "outputs": [],
   "source": [
    "VaR_CF_test = pd.DataFrame(columns=['significance_level', 'var_CF'])\n",
    "for significance_i in np.arange(0.005,0.07,0.005).tolist():\n",
    "    Z_CF_v = Z_CF(S_CF, K_CF , norm.ppf(significance_i))\n",
    "    VaR_CF_test.loc[len(VaR_CF_test)] = [significance_i, -(prices['return'].mean() + Z_CF_v*sigma_CF)]\n",
    "    del Z_CF_v"
   ]
  },
  {
   "cell_type": "code",
   "execution_count": 20,
   "metadata": {},
   "outputs": [
    {
     "data": {
      "text/html": [
       "<div>\n",
       "<style scoped>\n",
       "    .dataframe tbody tr th:only-of-type {\n",
       "        vertical-align: middle;\n",
       "    }\n",
       "\n",
       "    .dataframe tbody tr th {\n",
       "        vertical-align: top;\n",
       "    }\n",
       "\n",
       "    .dataframe thead th {\n",
       "        text-align: right;\n",
       "    }\n",
       "</style>\n",
       "<table border=\"1\" class=\"dataframe\">\n",
       "  <thead>\n",
       "    <tr style=\"text-align: right;\">\n",
       "      <th></th>\n",
       "      <th>significance_level</th>\n",
       "      <th>var_CF</th>\n",
       "    </tr>\n",
       "  </thead>\n",
       "  <tbody>\n",
       "    <tr>\n",
       "      <th>0</th>\n",
       "      <td>0.005</td>\n",
       "      <td>4.359345</td>\n",
       "    </tr>\n",
       "    <tr>\n",
       "      <th>1</th>\n",
       "      <td>0.010</td>\n",
       "      <td>3.548594</td>\n",
       "    </tr>\n",
       "    <tr>\n",
       "      <th>2</th>\n",
       "      <td>0.015</td>\n",
       "      <td>3.103372</td>\n",
       "    </tr>\n",
       "    <tr>\n",
       "      <th>3</th>\n",
       "      <td>0.020</td>\n",
       "      <td>2.800755</td>\n",
       "    </tr>\n",
       "    <tr>\n",
       "      <th>4</th>\n",
       "      <td>0.025</td>\n",
       "      <td>2.573692</td>\n",
       "    </tr>\n",
       "    <tr>\n",
       "      <th>5</th>\n",
       "      <td>0.030</td>\n",
       "      <td>2.393161</td>\n",
       "    </tr>\n",
       "    <tr>\n",
       "      <th>6</th>\n",
       "      <td>0.035</td>\n",
       "      <td>2.244030</td>\n",
       "    </tr>\n",
       "    <tr>\n",
       "      <th>7</th>\n",
       "      <td>0.040</td>\n",
       "      <td>2.117439</td>\n",
       "    </tr>\n",
       "    <tr>\n",
       "      <th>8</th>\n",
       "      <td>0.045</td>\n",
       "      <td>2.007765</td>\n",
       "    </tr>\n",
       "    <tr>\n",
       "      <th>9</th>\n",
       "      <td>0.050</td>\n",
       "      <td>1.911227</td>\n",
       "    </tr>\n",
       "    <tr>\n",
       "      <th>10</th>\n",
       "      <td>0.055</td>\n",
       "      <td>1.825163</td>\n",
       "    </tr>\n",
       "    <tr>\n",
       "      <th>11</th>\n",
       "      <td>0.060</td>\n",
       "      <td>1.747633</td>\n",
       "    </tr>\n",
       "    <tr>\n",
       "      <th>12</th>\n",
       "      <td>0.065</td>\n",
       "      <td>1.677178</td>\n",
       "    </tr>\n",
       "  </tbody>\n",
       "</table>\n",
       "</div>"
      ],
      "text/plain": [
       "    significance_level    var_CF\n",
       "0                0.005  4.359345\n",
       "1                0.010  3.548594\n",
       "2                0.015  3.103372\n",
       "3                0.020  2.800755\n",
       "4                0.025  2.573692\n",
       "5                0.030  2.393161\n",
       "6                0.035  2.244030\n",
       "7                0.040  2.117439\n",
       "8                0.045  2.007765\n",
       "9                0.050  1.911227\n",
       "10               0.055  1.825163\n",
       "11               0.060  1.747633\n",
       "12               0.065  1.677178"
      ]
     },
     "execution_count": 20,
     "metadata": {},
     "output_type": "execute_result"
    }
   ],
   "source": [
    "VaR_CF_test"
   ]
  },
  {
   "cell_type": "markdown",
   "metadata": {},
   "source": [
    "# Comparison EVT and Parametric VaR\n",
    "The EVT and Parametric VaR to AXP was develop in this <a href=\"https://github.com/craquinterogo/quantitative_finance/blob/master/Risk/Market/VaR/EVT_ExtremeValueTheory.ipynb\">link</a>\n",
    "\n",
    ".. loading that results here .."
   ]
  },
  {
   "cell_type": "code",
   "execution_count": 21,
   "metadata": {},
   "outputs": [],
   "source": [
    "results_EVT = pd.read_csv('datasource/results/EVT/evt_results.csv')"
   ]
  },
  {
   "cell_type": "code",
   "execution_count": 22,
   "metadata": {},
   "outputs": [],
   "source": [
    "results_EVT.rename(columns={'differences':'diff_evt_param'}, inplace=True)"
   ]
  },
  {
   "cell_type": "code",
   "execution_count": 23,
   "metadata": {},
   "outputs": [],
   "source": [
    "results = results_EVT.merge(\n",
    "            VaR_CF_test,\n",
    "            on='significance_level'\n",
    "            )\n",
    "del results_EVT"
   ]
  },
  {
   "cell_type": "code",
   "execution_count": 24,
   "metadata": {},
   "outputs": [],
   "source": [
    "results['diff_cf_param'] = results['var_CF'] - results['var_parametric']\n",
    "results['diff_cf_evt'] = results['var_CF'] - results['var_evt']"
   ]
  },
  {
   "cell_type": "code",
   "execution_count": 25,
   "metadata": {},
   "outputs": [
    {
     "data": {
      "image/png": "[encoded data removed]",
      "text/plain": [
       "<Figure size 1080x504 with 2 Axes>"
      ]
     },
     "metadata": {
      "needs_background": "light"
     },
     "output_type": "display_data"
    }
   ],
   "source": [
    "plt.figure(figsize=(15,7))\n",
    "\n",
    "plt.subplot(2,1,1)\n",
    "plt.plot(results['significance_level'], results['var_evt'], label='VaR-EVT', linestyle='dashed', alpha=0.5)\n",
    "plt.plot(results['significance_level'], results['var_parametric'], label='VaR-parametric', linestyle='dashed', alpha=0.5)\n",
    "plt.plot(results['significance_level'], results['var_CF'], label='Cornish-Fisher VaR')\n",
    "plt.title('Value at Risk - VaR', fontsize=20)\n",
    "plt.ylabel('VaR (%)')\n",
    "plt.legend()\n",
    "\n",
    "plt.subplot(2,1,2)\n",
    "plt.plot(results['significance_level'], results['diff_evt_param'], label='Difference EVT-parametric', linestyle='dashed', alpha=0.3)\n",
    "plt.plot(results['significance_level'], results['diff_cf_param'], label='Difference CF-parametric')\n",
    "plt.plot(results['significance_level'], results['diff_cf_evt'], label='Difference CF-EVT')\n",
    "plt.axhline(y=0, color='r', linestyle='dotted', alpha=0.7, label='Zero-level')\n",
    "plt.ylabel('Difference EVT-param (%)')\n",
    "plt.xlabel('Significance Level')\n",
    "plt.legend()\n",
    "\n",
    "plt.show()"
   ]
  },
  {
   "cell_type": "markdown",
   "metadata": {},
   "source": [
    "# Conclusion"
   ]
  },
  {
   "cell_type": "markdown",
   "metadata": {},
   "source": [
    "The way given by Amédée was applied but the results did not have the answer to our $S$ and $K$ coefficients. Beside this, the Maillard table did give a $S$ and $K$ coefficient values which to help to calculate $Z_{CF,\\alpha}$, but until now is not clear the mechanism as he did solve that parameters.\n",
    "\n",
    "The Cornish-Fisher Value At Risk (CF-VaR), has a similar behavior with EVT-VaR (Extreme Value Theory VaR) and parametric VaR, but was remarkable CF-VaR seems under-estimated having more than 4.2% significance level and constantly -2%, respectively. Comparing these models we need to compare their performance with a Backtesting VaR, to know which one meets the significance level within their historical prices."
   ]
  },
  {
   "cell_type": "markdown",
   "metadata": {},
   "source": [
    "# Bibliography"
   ]
  },
  {
   "cell_type": "markdown",
   "metadata": {},
   "source": [
    "* <b>Amédée, C & Barthélémy, F & Maillard, D. (2018)</b>Computation of the corrected Cornish–Fisher expansion using the response surface methodology: application to VaR and CVaR\n",
    "* <b>Izhar, H. (2015)</b>, Applying the Cornish-Fisher expansion to value-at-risk estimation in Islamic banking\n",
    "* <b>Maillard, D (2018)</b>, A user's guide to the Cornish Fisher Expansion\n",
    "* <b>Risk Concile (2016)</b>, Anatomy of Cornish-Fisher"
   ]
  },
  {
   "cell_type": "markdown",
   "metadata": {},
   "source": [
    "<hr/>"
   ]
  },
  {
   "cell_type": "markdown",
   "metadata": {},
   "source": [
    "This could not to be the final version, so if you have some recommendation or comment about this, I will be grateful to hear it, using e-mail <b>craquinterogo@unal.edu.co</b> or <b>cristian.quintero@est.uexternado.edu.co</b>"
   ]
  }
 ],
 "metadata": {
  "kernelspec": {
   "display_name": "Python 3",
   "language": "python",
   "name": "python3"
  },
  "language_info": {
   "codemirror_mode": {
    "name": "ipython",
    "version": 3
   },
   "file_extension": ".py",
   "mimetype": "text/x-python",
   "name": "python",
   "nbconvert_exporter": "python",
   "pygments_lexer": "ipython3",
   "version": "3.6.9"
  },
  "toc": {
   "base_numbering": 1,
   "nav_menu": {},
   "number_sections": true,
   "sideBar": true,
   "skip_h1_title": false,
   "title_cell": "Table of Contents",
   "title_sidebar": "Contents",
   "toc_cell": false,
   "toc_position": {},
   "toc_section_display": true,
   "toc_window_display": false
  }
 },
 "nbformat": 4,
 "nbformat_minor": 4
}
