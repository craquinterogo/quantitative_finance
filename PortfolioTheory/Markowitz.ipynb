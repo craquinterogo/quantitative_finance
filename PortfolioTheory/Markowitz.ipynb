{
 "cells": [
  {
   "cell_type": "markdown",
   "metadata": {},
   "source": [
    "Portfolio allocation has been for years an obsession within finance world. The reason seems easy to infer. Money, money, money ... the eternal financial mantra. This generation of money, is based some times in the idea people can outperform market behaviour, simply choosing the right assets available on it. The issue could seems easy to understand in this times but at 1952 one person change the mindset about the assets allocation, introducing an analitical approach in this matter. Markowitz was his name, and <a href=\"https://www.jstor.org/stable/2975974?seq=1\">Portfolio Selection</a> the materalization of his idea, in 16 pages.\n",
    "\n",
    "Markowitz start his paper with this quote: <i>\"The process of selecting a portfolio may be divided into two stages. The fist stage starts with observation and experience and ends with beliefs about the future performances of available securities. The second stage starts with the relevant beliefs about future performances and ends with the choise of portfolio\"</i>. With this Markowitz focused on the second one.\n",
    "\n",
    "An important idea in this paper is diversification, but it is not possible if people take into account the only idea of assessing the returns, because doing this, they ignore market's imperfections. Can you imagine, <b>having two assets with same greatest discounted value, which one is better than other?</b>. The first idea that comes to mind is, no matter. Well, this is one thing Markowitz changed. Originally, Markowitz did not include the short sales when said the relative amount invested in a security must be greates or equal to zero, or $w_i \\geq 0$. But if the only idea of take into account the returns as decision criteria, which one is the other thing we need to take into account to maximise our portfolio's return? ... today is easy infer it, the volatility ($\\sigma$), measured by standard deviation in returns and other important issue, the <b>covariance</b> between assets in the portfolio. The last one is an important idea in this model."
   ]
  },
  {
   "cell_type": "markdown",
   "metadata": {},
   "source": [
    "# Some equations to take into account\n",
    "\n",
    "Source:\n",
    "* The markowitz portfolio theory, by Marling, H. & Emanuelsson, S. (2012)\n",
    "* Portfolio selection, by Markowitz (1952)\n",
    "\n",
    "## Return\n",
    "\n",
    "When we talk about returns, we can calculate it in this way\n",
    "\n",
    "$R_t = \\frac{P_t}{P_{t-1}}-1$\n",
    "\n",
    "where $P_t$ is the asset's price at the monent $t$\n",
    "\n",
    "### Portfolio Return\n",
    "\n",
    "Imagine you have a random variable $Y$ which could take values like $y_1, y_2, y_3, .. y_n $ with probabilities associated to them $p_1, p_2, p_3, ... p_n$. The expected value of $Y$ is:\n",
    "\n",
    "$E[Y] = p_1y_1 + p_2y_2 + ... + p_ny_n = \\sum_{i=1}^{n} p_iy_i$\n",
    "\n",
    "If we have a number of random variables $R_1, R_2, R_3, ..., R_n$ and $R$ is the weighted sum of $R_i$, then:\n",
    "\n",
    "$R = w_1R_1 + w_2R_2 + ... + w_nR_n$\n",
    "\n",
    "And the expected value of $R$ will be:\n",
    "\n",
    "$E[R] = w_1E[R_1] + w_2E[R_2] + ... + w_nE[R_n]$\n",
    "\n",
    "Following this, in the MM (Markowitz Model) the portfolio's return is described as weighted return of assets that make up the portfolio. In this sense we have this:\n",
    "\n",
    "$\\mu = E[R_p] = \\sum_{i=1}^{n} w_i E[R_i]$\n",
    "\n",
    "where $R_p$ is the expected portfolio's return, $w_i$ is the relative amount invested in the asset $i$, $R_i$ is the asset-i return, and $n$ the number of assets within portfolio.\n",
    "\n",
    "## Volatility\n",
    "\n",
    "In finance volatility is associated with standard deviation $\\sigma$. The simple way to calculate this is\n",
    "\n",
    "$ Var(R_i) = \\sigma_{i}^2 = \\frac{1}{n} \\sum_{i=1}^{n} (R_i - \\overline{R})^2$\n",
    "\n",
    "\n",
    "### Portfolio Volatility\n",
    "\n",
    "Remembering one of variance properties, having $R_i$ as random variable and $c$ a constant:\n",
    "\n",
    "$Var(cR_i) = c^2Var(R_i)$\n",
    "\n",
    "In a weighted sum variable, the variance will be:\n",
    "\n",
    "$Var(R) = Var(w_1R_1) + Var(w_2R_2) + .. + Var(w_nR_n) + Cov(w_1R_1,w_2R_2) + .. + Cov(w_1R_1,w_nR_n) + Cov(w_2R_2,w_1R_1) + .. + Cov(w_2R_2,w_nR_n)$\n",
    "\n",
    "because $w_1, w_2, .. , w_n$ are constants and $Cov(w_iR_i,w_jR_j) = Cov(w_jR_j,w_iR_i)$\n",
    "\n",
    "$Var(R) = w_1^2Var(R_1) + w_2^2Var(R_2) + .. + w_n^2Var(R_n) + 2Cov(w_1R_1,w_2R_2) + 2Cov(w_1R_1,w_3R_3) + .. + 2Cov(w_2R_2,w_3R_3) + .. + 2Cov(w_{n-1}R_{n-1},w_nR_n)$\n",
    "\n",
    "In a compact way:\n",
    "\n",
    "$Var(R) = \\sum_{i=1}^{n} w_i^2Var(R_i) + 2\\sum_{i=1}^{n} \\sum_{j>i}^{n} w_iw_j\\sigma_{i,j}$\n",
    "\n",
    "If we take a look in the expression above, we can apply that in portolio's variance:\n",
    "\n",
    "$\\sigma_p^2 = \\sum_{i=1}^{n} \\sum_{j=1}^{n} \\sigma_{i,j}w_iw_j$\n",
    "\n",
    "Where $\\sigma_{i,j}$ is covariane between asset $i$ and asset $j$ returns. We must to remember $\\sigma_{i,j}$ when $i=j$ is the variance ($\\sigma_{i}^2$)"
   ]
  },
  {
   "cell_type": "markdown",
   "metadata": {},
   "source": [
    "# Markowitz Theory\n",
    "\n",
    "To this moment we have the mathematical tools to start to talk about markowitz idea of optimization. We must make clear, Markowitz idea of optimazing asset allocation is determined by include in analysis returns and variance of assets, individually, and portfolio too, allowing to diversify and get a better performance. If we want optimize a portfolio, we can choose one of two approaches:\n",
    "\n",
    "## Maximaze the returns\n",
    "\n",
    "Maximazing the returns including to select a desired risk level. This risk level is related with risk aversion in people. Mathematically looks like:\n",
    "\n",
    "$\\underset{w}{\\operatorname{argmax}} E[R_p]$\n",
    "\n",
    "given some restrictions:\n",
    "\n",
    "* level of risk\n",
    "\n",
    "$\\sigma$"
   ]
  },
  {
   "cell_type": "code",
   "execution_count": 1,
   "metadata": {},
   "outputs": [],
   "source": [
    "import numpy as np\n",
    "import pandas as pd"
   ]
  },
  {
   "cell_type": "code",
   "execution_count": null,
   "metadata": {},
   "outputs": [],
   "source": []
  },
  {
   "cell_type": "markdown",
   "metadata": {},
   "source": [
    "# About Assumptions\n",
    "<a href=\"http://www.psnacet.edu.in/courses/MBA/sapm/lecture-29.pdf\">source</a>\n",
    "\n",
    "With this is importante underline assumptions that Markowitz had, implicitlly, in his paper. The assumptions in Markowitz have some issues people today reject, because it works in an utopian word. \n"
   ]
  }
 ],
 "metadata": {
  "kernelspec": {
   "display_name": "Python 3",
   "language": "python",
   "name": "python3"
  },
  "language_info": {
   "codemirror_mode": {
    "name": "ipython",
    "version": 3
   },
   "file_extension": ".py",
   "mimetype": "text/x-python",
   "name": "python",
   "nbconvert_exporter": "python",
   "pygments_lexer": "ipython3",
   "version": "3.6.9"
  },
  "toc": {
   "base_numbering": 1,
   "nav_menu": {},
   "number_sections": true,
   "sideBar": true,
   "skip_h1_title": false,
   "title_cell": "Table of Contents",
   "title_sidebar": "Contents",
   "toc_cell": false,
   "toc_position": {},
   "toc_section_display": true,
   "toc_window_display": false
  }
 },
 "nbformat": 4,
 "nbformat_minor": 4
}
