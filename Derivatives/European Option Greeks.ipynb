{
 "cells": [
  {
   "cell_type": "markdown",
   "metadata": {},
   "source": [
    "#  Cálculo de Griegas para Opciones Europeas\n",
    "usando AAD con Tensorflow2\n",
    "\n",
    "En este notebook se busca explorar el cálculo de algunas sensibilidades de primer orden de las opciones europeas, haciendo uso de Adjoint Algorithmic Differentiation, por medio de Tensorflow 2.\n",
    "\n",
    "Para este fin debemos recordar el modelo de valoración Black-Scholes-Merton para opciones europeas como:\n",
    "\n",
    "$V = \\psi S \\Phi(\\psi d1) - \\psi K e^{-r T} \\Phi(\\psi d2)$\n",
    "\n",
    "con:\n",
    "\n",
    "* $S$ : Precio del subyacente\n",
    "* $K$ : Strike del contrato\n",
    "* $T$ : Plazo de maduración del contrato\n",
    "* $r$ : Tasa libre de riesgo\n",
    "* $\\psi$ : variable para determinar si es opción Call (1) o Put (-1)\n",
    "* $\\sigma$ : volatilidad implícita\n",
    "\n",
    "* $d1 = \\frac{log(\\frac{S}{K}) + (r + \\frac{\\sigma^2}{2})T}{\\sigma \\sqrt{T}}$\n",
    "\n",
    "* $d2 = d1 - \\sigma \\sqrt{T}$\n",
    "\n",
    "Con lo anterior en mente, vale la pena recordar la definición de las sensibilidades de primer orden:\n",
    "\n",
    "* $\\Delta = \\frac{\\partial{V}}{\\partial{S}} = \\Phi(d_+)$\n",
    "* $\\nu = \\frac{\\partial{V}}{\\partial{\\sigma}} = \\frac{e^{-r T} S \\sqrt{T}}{\\sqrt{2\\pi}} e^{\\frac{-d_1^2}{2}}$\n",
    "* $\\Theta = \\frac{\\partial{V}}{\\partial{T}} = \\frac{1}{T}\\left( \\frac{S \\sigma}{2 \\sqrt{2\\pi T}} e^{-\\frac{d_1^2}{2}} - \\psi r K e^{-r T}\\Phi(\\psi d_2)\\right)$\n",
    "* $\\rho = \\frac{\\partial{V}}{\\partial{r}} = \\psi K T e^{-r T} \\Phi(\\psi d_2) $\n",
    "\n",
    "Para lo anterior vale la pena recordar que:\n",
    "\n",
    "$\\Phi(x) = \\displaystyle\\int_{-\\infty}^{x} \\frac{1}{\\sqrt{2\\pi}\\sigma} e^{\\frac{-(t - \\mu)^2}{2\\sigma^2}} \\,dx$\n",
    "\n",
    "por lo tanto para nuestro $\\Phi^{\\prime}(x)$, con $x \\sim N(0,1)$, será:\n",
    "\n",
    "$\\Phi^{\\prime}(x) = \\frac{1}{\\sqrt{2\\pi}}e^{\\frac{-x^2}{2}}$"
   ]
  },
  {
   "cell_type": "markdown",
   "metadata": {},
   "source": [
    "## librerías\n",
    "\n",
    "Se usan las librerías de tensorflow y tensorflow_probability, cuyo objetivo es construir el grafo (DAG, Directed Acyclic Graph) donde se aplicará la diferenciación algorítmica backward o también conocida como AAD (Adjoint Algorithmic Differentiation)."
   ]
  },
  {
   "cell_type": "code",
   "execution_count": 148,
   "metadata": {},
   "outputs": [],
   "source": [
    "import tensorflow as tf\n",
    "import tensorflow_probability as tfp\n",
    "import numpy as np"
   ]
  },
  {
   "cell_type": "markdown",
   "metadata": {},
   "source": [
    "## Modelo Black-Scholes-Merton\n",
    "Función en el contexto de Tensorflow con la especificación del modelo de BSM"
   ]
  },
  {
   "cell_type": "code",
   "execution_count": 2,
   "metadata": {},
   "outputs": [],
   "source": [
    "@tf.function(experimental_relax_shapes=True)\n",
    "def black_scholes_merton(S, K, T, sigma, rf, psi):\n",
    "    \"\"\"\n",
    "    Black-Scholes-Merton model Tensorflow\n",
    "\n",
    "    Parameters\n",
    "    ------------\n",
    "    S       : Underliying asset Price [tensorflow.Variable]\n",
    "    K       : Strike Price [tensorflow.Variable]\n",
    "    T       : Time to maturity [tensorflow.Variable]\n",
    "    sigma   : implied volatility [tensorflow.Variable]\n",
    "    rf      : risk free rate [tensorflow.Variable]\n",
    "    psi     : Call (1) - Put (-1) [tensorflow.Variable]\n",
    "    \"\"\"\n",
    "    phi = tfp.distributions.Normal(0,1).cdf\n",
    "    sigma_sqrt_T = sigma * tf.math.sqrt(T)\n",
    "\n",
    "    d1 = (tf.math.log(S/K) + (rf + 0.5*sigma**2)*T) / sigma_sqrt_T\n",
    "    d2 = d1 - sigma_sqrt_T\n",
    "    option_price = psi * S * phi(psi*d1) - psi * K * tf.exp(-rf*T) * phi(psi*d2)\n",
    "    return option_price"
   ]
  },
  {
   "cell_type": "markdown",
   "metadata": {},
   "source": [
    "## Función Wrapper\n",
    "Esta función será una función envoltorio que permitirá el \\<cast\\> de valores de entrada a variables en el contexto de Tensorflow."
   ]
  },
  {
   "cell_type": "code",
   "execution_count": 3,
   "metadata": {},
   "outputs": [],
   "source": [
    "def calculate_BSM(S, K, T, sigma, rf, psi):\n",
    "    \"\"\"\n",
    "    Function which price a european option and their greeks\n",
    "    \n",
    "    Parameters\n",
    "    ------------\n",
    "    S       : Underliying asset Price\n",
    "    K       : Strike Price\n",
    "    T       : Time to maturity\n",
    "    sigma   : implied volatility\n",
    "    rf      : risk free rate\n",
    "    psi     : Call (1) - Put (-1)\n",
    "    \"\"\"\n",
    "    if not tf.is_tensor(S):\n",
    "        S = tf.Variable(S)\n",
    "    if not tf.is_tensor(K):\n",
    "        K = tf.Variable(K)\n",
    "    if not tf.is_tensor(T):\n",
    "        T = tf.Variable(T)\n",
    "    if not tf.is_tensor(sigma):\n",
    "        sigma = tf.Variable(sigma)\n",
    "    if not tf.is_tensor(rf):\n",
    "        rf = tf.Variable(rf)\n",
    "    if not tf.is_tensor(psi):\n",
    "        psi = tf.Variable(psi)\n",
    "\n",
    "    variables = {'S':S, 'K':K, 'T':T, 'sigma':sigma, 'rf':rf, 'psi':psi}\n",
    "    greeks = {'S':'delta', 'K':'d_K', 'T':'tetha', 'sigma':'vega', 'rf':'rho', 'psi':'d_psi'}\n",
    "\n",
    "    with tf.GradientTape() as g1:\n",
    "        price = black_scholes_merton(**variables)\n",
    "    d_price = g1.gradient(price, variables)\n",
    "    d_price = {greeks[k]: v.numpy() for k,v in d_price.items()}\n",
    "    return dict(price=price.numpy(), d_price=d_price)"
   ]
  },
  {
   "cell_type": "markdown",
   "metadata": {},
   "source": [
    "## Implementación\n",
    "La implementación permite enviar bien sea la información facial de solamente una opción o varias, en forma de listas, según se necesite.\n",
    "\n",
    "Ejemplo 1:\n",
    "* $S$ : 10\n",
    "* $K$ : 11\n",
    "* $T$ : 1 año\n",
    "* $r$ : 1%\n",
    "* $\\psi$ : 1 (Call)\n",
    "* $\\sigma$ : 3%"
   ]
  },
  {
   "cell_type": "code",
   "execution_count": 4,
   "metadata": {},
   "outputs": [],
   "source": [
    "resultado_ej_1 = calculate_BSM(S=[10.], K=[11.,], T=[1.], sigma=[0.03], rf=[0.01], psi=[1.])"
   ]
  },
  {
   "cell_type": "code",
   "execution_count": 5,
   "metadata": {},
   "outputs": [
    {
     "name": "stdout",
     "output_type": "stream",
     "text": [
      "Precio\t : 0.00020557455718517303\n",
      "Delta\t : 0.0023369055707007647\n",
      "Vega\t : 0.07301333546638489\n",
      "Rho\t : 0.023163482546806335\n",
      "Theta\t : -0.0013268347829580307\n"
     ]
    }
   ],
   "source": [
    "print(f\"Precio\\t : {resultado_ej_1['price'][0]}\")\n",
    "print(f\"Delta\\t : {resultado_ej_1['d_price']['delta'][0]}\")\n",
    "print(f\"Vega\\t : {resultado_ej_1['d_price']['vega'][0]}\")\n",
    "print(f\"Rho\\t : {resultado_ej_1['d_price']['rho'][0]}\")\n",
    "print(f\"Theta\\t : {-resultado_ej_1['d_price']['tetha'][0]}\")"
   ]
  },
  {
   "cell_type": "markdown",
   "metadata": {},
   "source": [
    "Ejemplo 2 (más de una opción a la vez):\n",
    "\n",
    "Opción 1\n",
    "* $S_1$ : 10\n",
    "* $K_1$ : 10\n",
    "* $T_1$ : 1 año\n",
    "* $r_1$ : 1%\n",
    "* $\\psi_1$ : 1 (Call)\n",
    "* $\\sigma_1$ : 3%\n",
    "\n",
    "Opción 2\n",
    "* $S_2$ : 10\n",
    "* $K_2$ : 12\n",
    "* $T_2$ : 1.5 años\n",
    "* $r_2$ : 1%\n",
    "* $\\psi_2$ : -1 (Put)\n",
    "* $\\sigma_2$ : 3.2%\n",
    "\n",
    "Opción 3\n",
    "* $S_3$ : 10\n",
    "* $K_3$ : 9.5\n",
    "* $T_3$ : 0.4 años\n",
    "* $r_3$ : 1%\n",
    "* $\\psi_3$ : -1 (Put)\n",
    "* $\\sigma_3$ : 2.7%"
   ]
  },
  {
   "cell_type": "code",
   "execution_count": 8,
   "metadata": {},
   "outputs": [],
   "source": [
    "resultado_ej_2 = calculate_BSM(\n",
    "                        S=[10.,10.,10.,10.], # mercado en t0, igual para todas\n",
    "                        K=[11.,8.9,12.,9.5],\n",
    "                        T=[1.2,0.7,1.5,0.4],\n",
    "                        sigma=[0.03,0.031,0.032,0.027],\n",
    "                        rf=[0.01,0.01,0.01,0.01], # mercado en t0, igual para todas\n",
    "                        psi=[1.,1.,-1.,-1.])"
   ]
  },
  {
   "cell_type": "code",
   "execution_count": 9,
   "metadata": {},
   "outputs": [
    {
     "name": "stdout",
     "output_type": "stream",
     "text": [
      "-- -- -- -- -- -- -- -- -- -- -- -- -- \n",
      "Opción 1\n",
      "-- -- -- -- -- -- -- -- -- -- -- -- -- \n",
      "Precio\t : 0.0006155781447887421\n",
      "Delta\t : 0.005890722386538982\n",
      "Vega\t : 0.18324600160121918\n",
      "Rho\t : 0.06994997709989548\n",
      "Theta\t : -0.002873491495847702\n",
      "\n",
      "-- -- -- -- -- -- -- -- -- -- -- -- -- \n",
      "Opción 2\n",
      "-- -- -- -- -- -- -- -- -- -- -- -- -- \n",
      "Precio\t : 1.1620826721191406\n",
      "Delta\t : 0.9999991059303284\n",
      "Vega\t : 3.719647793332115e-05\n",
      "Rho\t : 6.186535835266113\n",
      "Theta\t : -0.08837991207838058\n",
      "\n",
      "-- -- -- -- -- -- -- -- -- -- -- -- -- \n",
      "Opción 3\n",
      "-- -- -- -- -- -- -- -- -- -- -- -- -- \n",
      "Precio\t : 1.8213434219360352\n",
      "Delta\t : -0.9999892711639404\n",
      "Vega\t : 0.0005851517780683935\n",
      "Rho\t : -17.731857299804688\n",
      "Theta\t : 0.11820612847805023\n",
      "\n",
      "-- -- -- -- -- -- -- -- -- -- -- -- -- \n",
      "Opción 4\n",
      "-- -- -- -- -- -- -- -- -- -- -- -- -- \n",
      "Precio\t : 2.670520916581154e-05\n",
      "Delta\t : -0.0005840239464305341\n",
      "Vega\t : 0.012976610101759434\n",
      "Rho\t : -0.0023467775899916887\n",
      "Theta\t : -0.0003792911593336612\n",
      "\n"
     ]
    }
   ],
   "source": [
    "for option_i in range(len(resultado_ej_2['price'])):\n",
    "    print('-- -- -- -- -- -- -- -- -- -- -- -- -- ')\n",
    "    print(f'Opción {(option_i+1)}')\n",
    "    print('-- -- -- -- -- -- -- -- -- -- -- -- -- ')\n",
    "    print(f\"Precio\\t : {resultado_ej_2['price'][option_i]}\")\n",
    "    print(f\"Delta\\t : {resultado_ej_2['d_price']['delta'][option_i]}\")\n",
    "    print(f\"Vega\\t : {resultado_ej_2['d_price']['vega'][option_i]}\")\n",
    "    print(f\"Rho\\t : {resultado_ej_2['d_price']['rho'][option_i]}\")\n",
    "    print(f\"Theta\\t : {-resultado_ej_2['d_price']['tetha'][option_i]}\")\n",
    "    print('')"
   ]
  },
  {
   "cell_type": "markdown",
   "metadata": {},
   "source": [
    "Monte Carlo comparison, ... coming soon."
   ]
  },
  {
   "cell_type": "markdown",
   "metadata": {},
   "source": [
    "<hr>"
   ]
  },
  {
   "cell_type": "markdown",
   "metadata": {},
   "source": [
    "This could not to be the final version, so if you have some recommendation or comment about this, I will be grateful to hear it, using e-mail <b>craquinterogo@unal.edu.co</b> or <b>cristian.quintero@est.uexternado.edu.co</b>"
   ]
  }
 ],
 "metadata": {
  "hide_input": false,
  "kernelspec": {
   "display_name": "Python 3",
   "language": "python",
   "name": "python3"
  },
  "language_info": {
   "codemirror_mode": {
    "name": "ipython",
    "version": 3
   },
   "file_extension": ".py",
   "mimetype": "text/x-python",
   "name": "python",
   "nbconvert_exporter": "python",
   "pygments_lexer": "ipython3",
   "version": "3.8.6"
  },
  "toc": {
   "base_numbering": 1,
   "nav_menu": {},
   "number_sections": true,
   "sideBar": true,
   "skip_h1_title": false,
   "title_cell": "Table of Contents",
   "title_sidebar": "Contents",
   "toc_cell": false,
   "toc_position": {},
   "toc_section_display": true,
   "toc_window_display": false
  }
 },
 "nbformat": 4,
 "nbformat_minor": 4
}
