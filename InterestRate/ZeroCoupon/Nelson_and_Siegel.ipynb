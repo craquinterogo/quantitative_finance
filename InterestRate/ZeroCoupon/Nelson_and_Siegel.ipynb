{
 "cells": [
  {
   "cell_type": "code",
   "execution_count": 1,
   "metadata": {},
   "outputs": [],
   "source": [
    "import pandas as pd\n",
    "import numpy as np\n",
    "import datetime\n",
    "import math\n",
    "from dateutils import relativedelta\n",
    "from scipy import optimize\n",
    "from matplotlib import pyplot as plt"
   ]
  },
  {
   "cell_type": "code",
   "execution_count": 2,
   "metadata": {},
   "outputs": [],
   "source": [
    "valuation_date = datetime.datetime(2019,11,10)"
   ]
  },
  {
   "cell_type": "code",
   "execution_count": 3,
   "metadata": {},
   "outputs": [],
   "source": [
    "## ------------------------------------------_\n",
    "## This functions was retrieved from \n",
    "## https://github.com/peliot/XIRR-and-XNPV/blob/master/financial.py\n",
    "## ------------------------------------------_\n",
    "\n",
    "def xnpv(rate,cashflows):\n",
    "    chron_order = sorted(cashflows, key = lambda x: x[0])\n",
    "    t0 = chron_order[0][0]\n",
    "    return sum([cf/(1+rate)**((t-t0).days/365.0) for (t,cf) in chron_order])\n",
    "\n",
    "def xirr(cashflows,guess=0.1):\n",
    "    return optimize.newton(lambda r: xnpv(r,cashflows),guess)"
   ]
  },
  {
   "cell_type": "code",
   "execution_count": 4,
   "metadata": {},
   "outputs": [],
   "source": [
    "def build_coupon_dates(start_date, frequency, number_periods, end_date, lower_date_threshold=None):\n",
    "    \"\"\"\n",
    "        Right now this function just calculates coupon dates with frequency in Years\n",
    "    \"\"\"\n",
    "    if frequency != 'Y':\n",
    "        raise Exeception('(build_coupon_dates) So far, this function just works with years as frequency.')\n",
    "        \n",
    "    is_over = False\n",
    "    dates = []\n",
    "    temporal_date = start_date\n",
    "    \n",
    "    if lower_date_threshold is None:\n",
    "        lower_date_threshold = start_date\n",
    "    \n",
    "    while(not is_over):\n",
    "        if temporal_date <= end_date:\n",
    "            if temporal_date >= lower_date_threshold:\n",
    "                dates.append(temporal_date.date())\n",
    "            temporal_date = temporal_date + relativedelta(years=number_periods)\n",
    "        else:\n",
    "            is_over = True\n",
    "    \n",
    "    return dates"
   ]
  },
  {
   "cell_type": "code",
   "execution_count": 5,
   "metadata": {},
   "outputs": [],
   "source": [
    "def build_flows_projection(valuation_date, coupon_rate, nominal, coupon_dates, year_days=365):\n",
    "    if isinstance(valuation_date, datetime.datetime):\n",
    "        valuation_date = valuation_date.date()\n",
    "    df_flows = coupon_dates\n",
    "    df_flows['period'] = df_flows['date'].apply(lambda x : (x-valuation_date).days/year_days)\n",
    "    df_flows['payment'] = nominal*coupon_rate\n",
    "    \n",
    "    df_flows.loc[len(df_flows)-1,'payment'] += nominal\n",
    "    \n",
    "    return df_flows"
   ]
  },
  {
   "cell_type": "code",
   "execution_count": 6,
   "metadata": {},
   "outputs": [],
   "source": [
    "def calculate_initial_nelson_siegel_rate(coupon_flows, b0, b1, b2, tau):\n",
    "    df_ns_rates = coupon_flows.copy()\n",
    "    df_ns_rates['ns_rates'] = df_ns_rates['period']\\\n",
    "                                .apply(\n",
    "                                    lambda x:\n",
    "                                        (b0 + ((b1+b2)*((1-math.exp(-x / tau)) / (x/tau))) - b2*math.exp(-x/tau) ) / 100\n",
    "                                )\n",
    "    return df_ns_rates"
   ]
  },
  {
   "cell_type": "code",
   "execution_count": 7,
   "metadata": {},
   "outputs": [],
   "source": [
    "def calculate_present_value(flows):\n",
    "    df_pv = flows.copy()\n",
    "    df_pv['present_value'] = [v['payment']*math.exp(-v['period']*v['ns_rates']) for i, v in df_pv.iterrows()]\n",
    "    return df_pv"
   ]
  },
  {
   "cell_type": "code",
   "execution_count": 8,
   "metadata": {},
   "outputs": [],
   "source": [
    "def root_mean_squared_error(observed, model):\n",
    "    diff_ = (np.subtract(observed,model)*10000)**2\n",
    "    return sum(diff_)"
   ]
  },
  {
   "cell_type": "markdown",
   "metadata": {},
   "source": [
    "# Nelson and Siegel Model (1987)"
   ]
  },
  {
   "cell_type": "markdown",
   "metadata": {},
   "source": [
    "In financial industry, people do need to get the term structure of interest rates in a lot point over time, to assets valuation, and another tasks. But this structure could has particular characteristics like we will see in the figure about colombian TES yield curve, like long term level, short term level and convexity and some times inflexion points. This characteristics do the calculations about term structure of interest, some difficult in simplicity, as it could be seen on many methods developed throught 80's and 90's, known as cuadratic and cubic splines by McCulloch (1971) and any others, built with splines structure, and having some critics (<a href=\"https://pdfs.semanticscholar.org/70c4/20a1dc336394866dff5f206df6cc8274d991.pdf\">see this article</a>).\n",
    "\n",
    "To this, Nelson and Siegel did make one model in 1987 (<b><a href=\"http://web.math.ku.dk/~rolf/teaching/NelsonSiegel.pdf\">original article</a></b>), more simple where looking four parameters, and a specific function, is posible to model forward rates in discrete time. It had an transformation where using the model is posible to get the spot interest rate, applying over forward model, the integration operator."
   ]
  },
  {
   "cell_type": "markdown",
   "metadata": {},
   "source": [
    "# Colombian TES Yield Curve"
   ]
  },
  {
   "cell_type": "markdown",
   "metadata": {},
   "source": [
    "## Data"
   ]
  },
  {
   "cell_type": "code",
   "execution_count": 9,
   "metadata": {},
   "outputs": [],
   "source": [
    "free_risk_bonds = pd.read_excel('bonds_free_risk.xlsx')"
   ]
  },
  {
   "cell_type": "code",
   "execution_count": 10,
   "metadata": {},
   "outputs": [
    {
     "data": {
      "text/html": [
       "<div>\n",
       "<style scoped>\n",
       "    .dataframe tbody tr th:only-of-type {\n",
       "        vertical-align: middle;\n",
       "    }\n",
       "\n",
       "    .dataframe tbody tr th {\n",
       "        vertical-align: top;\n",
       "    }\n",
       "\n",
       "    .dataframe thead th {\n",
       "        text-align: right;\n",
       "    }\n",
       "</style>\n",
       "<table border=\"1\" class=\"dataframe\">\n",
       "  <thead>\n",
       "    <tr style=\"text-align: right;\">\n",
       "      <th></th>\n",
       "      <th>period</th>\n",
       "      <th>maturity_date</th>\n",
       "      <th>coupon_rate</th>\n",
       "      <th>clean_price</th>\n",
       "      <th>yield_rate</th>\n",
       "    </tr>\n",
       "  </thead>\n",
       "  <tbody>\n",
       "    <tr>\n",
       "      <th>0</th>\n",
       "      <td>0.704110</td>\n",
       "      <td>2020-07-24</td>\n",
       "      <td>0.1100</td>\n",
       "      <td>105570</td>\n",
       "      <td>0.0415</td>\n",
       "    </tr>\n",
       "    <tr>\n",
       "      <th>1</th>\n",
       "      <td>2.482192</td>\n",
       "      <td>2022-05-04</td>\n",
       "      <td>0.0700</td>\n",
       "      <td>105348</td>\n",
       "      <td>0.0477</td>\n",
       "    </tr>\n",
       "    <tr>\n",
       "      <th>2</th>\n",
       "      <td>4.706849</td>\n",
       "      <td>2024-07-24</td>\n",
       "      <td>0.1000</td>\n",
       "      <td>120446</td>\n",
       "      <td>0.0512</td>\n",
       "    </tr>\n",
       "    <tr>\n",
       "      <th>3</th>\n",
       "      <td>6.049315</td>\n",
       "      <td>2025-11-26</td>\n",
       "      <td>0.0625</td>\n",
       "      <td>104090</td>\n",
       "      <td>0.0544</td>\n",
       "    </tr>\n",
       "    <tr>\n",
       "      <th>4</th>\n",
       "      <td>6.797260</td>\n",
       "      <td>2026-08-26</td>\n",
       "      <td>0.0750</td>\n",
       "      <td>110910</td>\n",
       "      <td>0.0556</td>\n",
       "    </tr>\n",
       "    <tr>\n",
       "      <th>5</th>\n",
       "      <td>8.471233</td>\n",
       "      <td>2028-04-28</td>\n",
       "      <td>0.0600</td>\n",
       "      <td>100951</td>\n",
       "      <td>0.0585</td>\n",
       "    </tr>\n",
       "    <tr>\n",
       "      <th>6</th>\n",
       "      <td>10.863014</td>\n",
       "      <td>2030-09-18</td>\n",
       "      <td>0.0775</td>\n",
       "      <td>113546</td>\n",
       "      <td>0.0603</td>\n",
       "    </tr>\n",
       "    <tr>\n",
       "      <th>7</th>\n",
       "      <td>12.646575</td>\n",
       "      <td>2032-06-30</td>\n",
       "      <td>0.0700</td>\n",
       "      <td>106976</td>\n",
       "      <td>0.0619</td>\n",
       "    </tr>\n",
       "    <tr>\n",
       "      <th>8</th>\n",
       "      <td>14.947945</td>\n",
       "      <td>2034-10-18</td>\n",
       "      <td>0.0725</td>\n",
       "      <td>109163</td>\n",
       "      <td>0.0629</td>\n",
       "    </tr>\n",
       "  </tbody>\n",
       "</table>\n",
       "</div>"
      ],
      "text/plain": [
       "      period maturity_date  coupon_rate  clean_price  yield_rate\n",
       "0   0.704110    2020-07-24       0.1100       105570      0.0415\n",
       "1   2.482192    2022-05-04       0.0700       105348      0.0477\n",
       "2   4.706849    2024-07-24       0.1000       120446      0.0512\n",
       "3   6.049315    2025-11-26       0.0625       104090      0.0544\n",
       "4   6.797260    2026-08-26       0.0750       110910      0.0556\n",
       "5   8.471233    2028-04-28       0.0600       100951      0.0585\n",
       "6  10.863014    2030-09-18       0.0775       113546      0.0603\n",
       "7  12.646575    2032-06-30       0.0700       106976      0.0619\n",
       "8  14.947945    2034-10-18       0.0725       109163      0.0629"
      ]
     },
     "execution_count": 10,
     "metadata": {},
     "output_type": "execute_result"
    }
   ],
   "source": [
    "free_risk_bonds"
   ]
  },
  {
   "cell_type": "markdown",
   "metadata": {},
   "source": [
    "## Plot"
   ]
  },
  {
   "cell_type": "code",
   "execution_count": 11,
   "metadata": {},
   "outputs": [
    {
     "data": {
      "image/png": "[encoded data removed]",
      "text/plain": [
       "<Figure size 1440x504 with 1 Axes>"
      ]
     },
     "metadata": {
      "needs_background": "light"
     },
     "output_type": "display_data"
    }
   ],
   "source": [
    "plt.figure(figsize=(20,7))\n",
    "\n",
    "plt.plot(\n",
    "    free_risk_bonds['period'],\n",
    "    free_risk_bonds['yield_rate']*100,\n",
    "    label='Original Colombian TES Yield Rate',\n",
    "    linestyle='--',\n",
    "    marker='o',\n",
    "    c='red',\n",
    "    alpha=0.6\n",
    ")\n",
    "\n",
    "plt.title('Colombian TES Yield Curve', fontsize=20)\n",
    "plt.ylabel('Interest Rate (%)', fontsize=14)\n",
    "plt.xlabel('Time to Maturity (yrs)', fontsize=14)\n",
    "\n",
    "plt.legend(fontsize=14)\n",
    "plt.show()"
   ]
  },
  {
   "cell_type": "markdown",
   "metadata": {},
   "source": [
    "# Parameters"
   ]
  },
  {
   "cell_type": "markdown",
   "metadata": {},
   "source": [
    "Basically we want to estimate four parameters, called B<sub>0</sub>, B<sub>1</sub>, B<sub>2</sub> and tau (<b><a href=\"https://education.wbstraining.com/pluginfile.php/4716/mod_resource/content/2/Chaves_Technical%2520Manual%2520Nelson%2520%2520Siegel%2520model.pdf\">take a look here</a></b>). This parameters represents some characteristic on term structure of interest rate. \n",
    "\n",
    "- <b>B<sub>0</sub></b> : Is the level of long term interest rate in the curve\n",
    "- <b>B<sub>1</sub></b> : Is the spread between short and long term of interest rate\n",
    "- <b>B<sub>2</sub></b> : Will be the term where the term structure could have a inflexion point\n",
    "- <b>Tau</b> : Is  the decay factor in term structure of interest rate, small values produce slow decay while large values produce fast decay\n",
    "\n",
    "Thus, to this example, we will set this values, based on the chart above, as:\n",
    "- <b>B<sub>0</sub></b> = 7\n",
    "- <b>B<sub>1</sub></b> = 4 - 7 = - 3\n",
    "- <b>B<sub>2</sub></b> = 0, because I don't see some strongest inflexion point\n",
    "- <b>Tau</b> : 1"
   ]
  },
  {
   "cell_type": "code",
   "execution_count": 12,
   "metadata": {},
   "outputs": [],
   "source": [
    "first_ = False\n",
    "free_risk_bonds_first = None"
   ]
  },
  {
   "cell_type": "code",
   "execution_count": 13,
   "metadata": {},
   "outputs": [],
   "source": [
    "def nelson_and_siegel(x):\n",
    "    \n",
    "    b0=x[0]\n",
    "    b1=x[1]\n",
    "    b2=x[2]\n",
    "    tau=x[3]\n",
    "    \n",
    "    global free_risk_bonds\n",
    "    global free_risk_bonds_first\n",
    "    global first_\n",
    "    \n",
    "    for i_, values in free_risk_bonds.iterrows():\n",
    "\n",
    "        start_date = values['maturity_date'] + relativedelta(years=-30)\n",
    "        end_date = values['maturity_date']\n",
    "        coupon_rate = values['coupon_rate']\n",
    "        default_nominal = 100\n",
    "\n",
    "        df_coupon_flows = build_coupon_dates(\n",
    "                                start_date=start_date,\n",
    "                                frequency='Y',\n",
    "                                number_periods=1,\n",
    "                                end_date=end_date,\n",
    "                                lower_date_threshold=valuation_date\n",
    "                            )\n",
    "\n",
    "        df_coupon_flows = pd.DataFrame(df_coupon_flows, columns=['date'])\n",
    "\n",
    "        df_coupon_flows = build_flows_projection(\n",
    "                                valuation_date=valuation_date,\n",
    "                                coupon_rate=coupon_rate,\n",
    "                                nominal=default_nominal,\n",
    "                                coupon_dates=df_coupon_flows\n",
    "                            )\n",
    "\n",
    "        df_coupon_flows = calculate_initial_nelson_siegel_rate(\n",
    "                                coupon_flows=df_coupon_flows,\n",
    "                                b0=b0,\n",
    "                                b1=b1,\n",
    "                                b2=b2,\n",
    "                                tau=tau\n",
    "                            )\n",
    "\n",
    "        # ns_flows\n",
    "\n",
    "        df_coupon_flows = calculate_present_value(flows=df_coupon_flows)\n",
    "\n",
    "        bond_dirty_price = df_coupon_flows['present_value'].sum()\n",
    "\n",
    "        # XIRR\n",
    "        _v_xirr = xirr(\n",
    "            [(valuation_date.date(), -bond_dirty_price )] + [tuple (i) for i in df_coupon_flows[['date','payment']].values.tolist()]\n",
    "        )\n",
    "\n",
    "        free_risk_bonds.loc[i_,'dirty_price'] = bond_dirty_price\n",
    "        free_risk_bonds.loc[i_,'xirr'] = _v_xirr\n",
    "    \n",
    "    if not first_:\n",
    "        first_ = True\n",
    "        free_risk_bonds_first = free_risk_bonds.copy()\n",
    "    \n",
    "    return root_mean_squared_error(free_risk_bonds['yield_rate'],free_risk_bonds['xirr'])"
   ]
  },
  {
   "cell_type": "markdown",
   "metadata": {},
   "source": [
    "## Minimizing RMSE\n",
    "- between observed yield rate and xirr calculated using Nelson and Siegel rates"
   ]
  },
  {
   "cell_type": "markdown",
   "metadata": {},
   "source": [
    "To get Nelson and Siegel model's parameters, we must to minimize the error between yield rate observed and yield rate in NS's model. To get this I did use root mean squared error <b>(RMSE)</b>. But before, we need to take into account that the model to look a local mimimum, reason why we need to set B0, B1, B2 and tau in some value nearest to original yield curve, as we did."
   ]
  },
  {
   "cell_type": "code",
   "execution_count": 14,
   "metadata": {
    "scrolled": true
   },
   "outputs": [
    {
     "name": "stdout",
     "output_type": "stream",
     "text": [
      "Optimization terminated successfully.\n",
      "         Current function value: 132.911392\n",
      "         Iterations: 218\n",
      "         Function evaluations: 403\n"
     ]
    }
   ],
   "source": [
    "x0 = np.array([7.0, -3.0, 0.0, 1.0])\n",
    "res = optimize.minimize(nelson_and_siegel, x0, method='nelder-mead', options={'xtol': 1e-8, 'disp': True})\n",
    "\n",
    "if res.success:\n",
    "    res = res.x.tolist()\n",
    "else:\n",
    "    raise Exception('Something is wrong! .... What could have been happen? ... '+res.message)"
   ]
  },
  {
   "cell_type": "code",
   "execution_count": 15,
   "metadata": {},
   "outputs": [
    {
     "name": "stdout",
     "output_type": "stream",
     "text": [
      "\n",
      "        Nelson and Siegel parameters calculated:\n",
      "            - B0 \t\t: 7.677302298888388\n",
      "            - B1 \t\t: -3.8389432946747624\n",
      "            - B2 \t\t: -0.012194752502677266\n",
      "            - tau \t\t: 5.265190450792611\n",
      "    \n"
     ]
    }
   ],
   "source": [
    "print(\"\"\"\n",
    "        Nelson and Siegel parameters calculated:\n",
    "            - B0 \\t\\t: {b0}\n",
    "            - B1 \\t\\t: {b1}\n",
    "            - B2 \\t\\t: {b2}\n",
    "            - tau \\t\\t: {tau}\n",
    "    \"\"\".format(\n",
    "        b0 = res[0],\n",
    "        b1 = res[1],\n",
    "        b2 = res[2],\n",
    "        tau = res[3]\n",
    "    )\n",
    ")"
   ]
  },
  {
   "cell_type": "markdown",
   "metadata": {},
   "source": [
    "## Plotting"
   ]
  },
  {
   "cell_type": "code",
   "execution_count": 16,
   "metadata": {},
   "outputs": [
    {
     "data": {
      "image/png": "[encoded data removed]",
      "text/plain": [
       "<Figure size 1440x504 with 1 Axes>"
      ]
     },
     "metadata": {
      "needs_background": "light"
     },
     "output_type": "display_data"
    }
   ],
   "source": [
    "plt.figure(figsize=(20,7))\n",
    "\n",
    "plt.plot(\n",
    "    free_risk_bonds_first['period'],\n",
    "    free_risk_bonds_first['xirr']*100,\n",
    "    label='Curve with Initial NS parameters',\n",
    "    linestyle='--',\n",
    "    marker='o',\n",
    "    c='gray'\n",
    ")\n",
    "\n",
    "plt.plot(\n",
    "    free_risk_bonds['period'],\n",
    "    free_risk_bonds['xirr']*100,\n",
    "    label='Curve with Final NS parameters',\n",
    "    linestyle='--',\n",
    "    marker='o',\n",
    "    c='blue',\n",
    "    alpha=0.6\n",
    ")\n",
    "\n",
    "plt.plot(\n",
    "    free_risk_bonds['period'],\n",
    "    free_risk_bonds['yield_rate']*100,\n",
    "    label='Original Yield Rate',\n",
    "    linestyle='--',\n",
    "    marker='o',\n",
    "    c='red',\n",
    "    alpha=0.5\n",
    ")\n",
    "\n",
    "plt.title('Comparison Yield Curve observed and Nelson-Siegel Yield Curve', fontsize=20)\n",
    "plt.ylabel('Interest Rate (%)', fontsize=14)\n",
    "plt.xlabel('Time to Maturity (yrs)', fontsize=14)\n",
    "\n",
    "plt.legend(fontsize=14)\n",
    "plt.show()"
   ]
  },
  {
   "cell_type": "markdown",
   "metadata": {},
   "source": [
    "As we did see above, the line colored as gray represents the term structure using the initial parameters of B<sub>0</sub>, B<sub>1</sub>, B<sub>2</sub> and tau, as 7, -3, 0 and 1, respectively. The line colored light red is observed yield curve.\n",
    "\n",
    "Nevertheless after minimizing RMSE between observed and NS's yield curve, I did get the line colored as blue, drawn using parameters <b>B<sub>0</sub></b>=7.6773, <b>B<sub>1</sub></b>=-3.8389, <b>B<sub>2</sub></b>=-0.0121 and <b>Tau</b>=5.2651. This parameters let to the term structure of interest rate to be nearest to original yield curve, and for this reason, we could use this to get any interest rate in term structure of spot interest rate throught time without worry about we just have specific nodes in original yield curve.\n",
    "\n",
    "Its important underline this interest rate is spot, because was used the Nelson and Siegel model after using integration operator."
   ]
  },
  {
   "cell_type": "markdown",
   "metadata": {},
   "source": [
    "<hr>"
   ]
  },
  {
   "cell_type": "markdown",
   "metadata": {},
   "source": [
    "This could not to be the final version, so if you have some recommendation or comment about this, I will be grateful to hear it, using e-mail <b>craquinterogo@unal.edu.co</b> or <b>cristian.quintero@est.uexternado.edu.co</b>"
   ]
  },
  {
   "cell_type": "markdown",
   "metadata": {},
   "source": [
    "<hr>"
   ]
  }
 ],
 "metadata": {
  "kernelspec": {
   "display_name": "Python 3",
   "language": "python",
   "name": "python3"
  },
  "language_info": {
   "codemirror_mode": {
    "name": "ipython",
    "version": 3
   },
   "file_extension": ".py",
   "mimetype": "text/x-python",
   "name": "python",
   "nbconvert_exporter": "python",
   "pygments_lexer": "ipython3",
   "version": "3.6.8"
  },
  "toc": {
   "base_numbering": 1,
   "nav_menu": {},
   "number_sections": true,
   "sideBar": true,
   "skip_h1_title": false,
   "title_cell": "Table of Contents",
   "title_sidebar": "Contents",
   "toc_cell": false,
   "toc_position": {},
   "toc_section_display": true,
   "toc_window_display": true
  }
 },
 "nbformat": 4,
 "nbformat_minor": 2
}
